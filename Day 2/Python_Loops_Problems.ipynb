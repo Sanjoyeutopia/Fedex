{
 "cells": [
  {
   "cell_type": "markdown",
   "id": "03ab1930",
   "metadata": {},
   "source": [
    "# Loops in Python\n",
    "## Beginner Level"
   ]
  },
  {
   "cell_type": "markdown",
   "id": "f0ee9117",
   "metadata": {},
   "source": [
    "### In-Class Problem: Sum of a List\n",
    "Write a Python script to calculate the sum of all numbers in a list."
   ]
  },
  {
   "cell_type": "code",
   "execution_count": null,
   "id": "e5bfa6ff",
   "metadata": {},
   "outputs": [],
   "source": [
    "numbers = [4, 7, 1, 3, 9, 2]\n",
    "total = 0\n",
    "for num in numbers:\n",
    "    total += num\n",
    "print(f\"Total Sum: {total}\")"
   ]
  },
  {
   "cell_type": "markdown",
   "id": "e34b4372",
   "metadata": {},
   "source": [
    "### Assignment: Counting Elements\n",
    "Create a script to count the number of each type of element in a list."
   ]
  },
  {
   "cell_type": "code",
   "execution_count": null,
   "id": "d23e622a",
   "metadata": {},
   "outputs": [],
   "source": [
    "elements = ['apple', 'orange', 'apple', 'pear', 'orange', 'banana']\n",
    "count_dict = {}\n",
    "\n",
    "for element in elements:\n",
    "    if element in count_dict:\n",
    "        count_dict[element] += 1\n",
    "    else:\n",
    "        count_dict[element] = 1\n",
    "\n",
    "for fruit, count in count_dict.items():\n",
    "    print(f\"{fruit}: {count}\")"
   ]
  }
 ],
 "metadata": {},
 "nbformat": 4,
 "nbformat_minor": 5
}
