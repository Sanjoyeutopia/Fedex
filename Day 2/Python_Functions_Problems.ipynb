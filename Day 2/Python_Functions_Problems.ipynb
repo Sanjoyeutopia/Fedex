{
 "cells": [
  {
   "cell_type": "markdown",
   "id": "cbbeb4eb",
   "metadata": {},
   "source": [
    "# Functions in Python\n",
    "## Beginner Level"
   ]
  },
  {
   "cell_type": "markdown",
   "id": "355577b8",
   "metadata": {},
   "source": [
    "### In-Class Problem: Simple Calculator\n",
    "Write a Python function `calculate` that performs basic arithmetic operations based on two inputs and an operator."
   ]
  },
  {
   "cell_type": "code",
   "execution_count": null,
   "id": "062e31ce",
   "metadata": {},
   "outputs": [],
   "source": [
    "def calculate(num1, num2, operator):\n",
    "    if operator == '+':\n",
    "        return num1 + num2\n",
    "    elif operator == '-':\n",
    "        return num1 - num2\n",
    "    elif operator == '*':\n",
    "        return num1 * num2\n",
    "    elif operator == '/':\n",
    "        return num1 / num2 if num2 != 0 else 'Division by zero'\n",
    "    else:\n",
    "        return 'Invalid operator'\n",
    "\n",
    "# Example Usage\n",
    "result = calculate(10, 5, '+')\n",
    "print(result)"
   ]
  },
  {
   "cell_type": "markdown",
   "id": "69af9a85",
   "metadata": {},
   "source": [
    "### Assignment: Temperature Converter\n",
    "Create a function that converts temperature from Celsius to Fahrenheit and vice versa."
   ]
  },
  {
   "cell_type": "code",
   "execution_count": null,
   "id": "168414f8",
   "metadata": {},
   "outputs": [],
   "source": [
    "def convert_temperature(temp, scale):\n",
    "    if scale == 'c':\n",
    "        return (temp - 32) * 5/9  # Convert to Celsius\n",
    "    elif scale == 'f':\n",
    "        return (temp * 9/5) + 32  # Convert to Fahrenheit\n",
    "    else:\n",
    "        return 'Invalid scale'"
   ]
  }
 ],
 "metadata": {},
 "nbformat": 4,
 "nbformat_minor": 5
}
