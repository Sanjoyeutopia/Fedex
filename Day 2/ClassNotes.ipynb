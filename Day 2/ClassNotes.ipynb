{
 "cells": [
  {
   "cell_type": "code",
   "execution_count": 0,
   "metadata": {
    "application/vnd.databricks.v1+cell": {
     "cellMetadata": {
      "byteLimit": 2048000,
      "rowLimit": 10000
     },
     "inputWidgets": {},
     "nuid": "50c23799-3858-49b5-a690-2e5d8aa6d097",
     "showTitle": false,
     "title": ""
    }
   },
   "outputs": [
    {
     "output_type": "stream",
     "name": "stdout",
     "output_type": "stream",
     "text": [
      "Hello Fedex Team\ndatascience\n25\n"
     ]
    }
   ],
   "source": [
    "print(\"Hello Fedex Team\")\n",
    "teamName=\"datascience\"\n",
    "###Camelcasing\n",
    "print(teamName)\n",
    "teamName=25\n",
    "print(teamName)\n"
   ]
  },
  {
   "cell_type": "code",
   "execution_count": 0,
   "metadata": {
    "application/vnd.databricks.v1+cell": {
     "cellMetadata": {},
     "inputWidgets": {},
     "nuid": "b5798453-314d-4ccf-b15c-6103d28493fa",
     "showTitle": false,
     "title": ""
    }
   },
   "outputs": [],
   "source": []
  },
  {
   "cell_type": "code",
   "execution_count": 0,
   "metadata": {
    "application/vnd.databricks.v1+cell": {
     "cellMetadata": {
      "byteLimit": 2048000,
      "rowLimit": 10000
     },
     "inputWidgets": {},
     "nuid": "30f5de26-f867-44a5-8ae6-4e550e7d22dc",
     "showTitle": false,
     "title": ""
    }
   },
   "outputs": [
    {
     "output_type": "stream",
     "name": "stdout",
     "output_type": "stream",
     "text": [
      "The parking lot is making loss 100\n"
     ]
    }
   ],
   "source": [
    "#parking lot\n",
    "###calculates the total amount of Money earned for that parking lot\n",
    "##Car:20 , Two Wheeler: 10\n",
    "###two variables : no of cars , no of bikes  \n",
    "###total money collected for the parking lot for that day\n",
    "noOfCars=10\n",
    "noOfBikes=20\n",
    "totalAmountCollected=noOfBikes*10+noOfCars*20\n",
    "#print(\"Total amount collected \"+str(totalAmountCollected))\n",
    "###parking lot owner is giving a rent of 300\n",
    "###profit or loss \n",
    "###decision making : if (condition)\n",
    "###indent\n",
    "###create a script to calculate the profit , loss or the break even for the parking lot owner , keeping a rent variable.\n",
    "rent=500\n",
    "profit=0\n",
    "if(totalAmountCollected>rent):\n",
    "    profit=totalAmountCollected-rent\n",
    "    print(\"The parking lot has made a profit of  \", str(profit))\n",
    "elif(totalAmountCollected==rent):\n",
    "    print(\"It is  breakeven\")\n",
    "else:\n",
    "    loss=rent-totalAmountCollected\n",
    "    print(\"The parking lot is making loss\",str(loss))\n",
    "    \n"
   ]
  },
  {
   "cell_type": "code",
   "execution_count": 0,
   "metadata": {
    "application/vnd.databricks.v1+cell": {
     "cellMetadata": {
      "byteLimit": 2048000,
      "rowLimit": 10000
     },
     "inputWidgets": {},
     "nuid": "26a41154-8c06-4be2-b7b8-4dc1f16f64c8",
     "showTitle": false,
     "title": ""
    }
   },
   "outputs": [
    {
     "output_type": "stream",
     "name": "stdout",
     "output_type": "stream",
     "text": [
      "Arya's feedback:good\n"
     ]
    }
   ],
   "source": [
    "###we are having 5 students data. Every student have given us a feedback. We need to create a variable for student name  and student feedback.  We need to give a grade based on the student feedbadk. \n",
    "# 5: Its very good\n",
    "# <4 and 5: good\n",
    "# 3-4: average\n",
    "# 2-3: bad\n",
    "# 1-2: very bad \n",
    "name=\"Arya\"\n",
    "feedback=4\n",
    "\n",
    "if (feedback==5): print(\"Arya's feedback:\" + \"It's very good\") \n",
    "elif (feedback>=4 and feedback<5): print(\"Arya's feedback:\" + \"good\")\n",
    "elif (feedback>=3 and feedback<4):print(\"Arya's feedback:\" + \"Avg\")\n",
    "elif (feedback>=2 and feedback<3): print(\"Arya's feedback:\" + \"bad\")\n",
    "elif (feedback>=1 and feedback<2): print(\"Arya's feedback:\" + \"very bad\")\n",
    "else:print(\"Error\")\n",
    "    "
   ]
  },
  {
   "cell_type": "code",
   "execution_count": 0,
   "metadata": {
    "application/vnd.databricks.v1+cell": {
     "cellMetadata": {
      "byteLimit": 2048000,
      "rowLimit": 10000
     },
     "inputWidgets": {},
     "nuid": "0a927ae0-98c2-4803-9b72-691d456d8d2b",
     "showTitle": false,
     "title": ""
    }
   },
   "outputs": [
    {
     "output_type": "stream",
     "name": "stdout",
     "output_type": "stream",
     "text": [
      "2468101214161890\n"
     ]
    }
   ],
   "source": [
    "###write a block code that would get repeated based on a condition\n",
    "####1to5\n",
    "###For loop and another is a while loop\n",
    "#### range(start, end, step)\n",
    "start=1\n",
    "end=20\n",
    "sum=0\n",
    "for index in range(start,end):\n",
    "    if(index%2==0):\n",
    "        print(index,end='')\n",
    "        sum=sum+index\n",
    "print(sum)\n",
    "\n",
    "        \n",
    "####print all the even numbers for a range , where start and end variable would be defined in the program. step value needs to be 1. can we create the sum of it. "
   ]
  },
  {
   "cell_type": "code",
   "execution_count": 0,
   "metadata": {
    "application/vnd.databricks.v1+cell": {
     "cellMetadata": {},
     "inputWidgets": {},
     "nuid": "9add1242-9ba7-4707-ac3c-c7137f02fc0f",
     "showTitle": false,
     "title": ""
    }
   },
   "outputs": [],
   "source": [
    "###fibonnecci series\n",
    "##0,1,1,2,3,5,8,13....\n",
    "##start 0, end: \n",
    "##the third number is the summation of first two numbers\n",
    "start=0\n",
    "middle=1\n",
    "end=0\n",
    "endNumber=1000\n",
    "for index in range(0,20):\n",
    "    if(index==10):\n",
    "        continue\n",
    "    start=middle\n",
    "    end=start+middle\n",
    "    print(end)\n",
    "    if (end>endNumber):\n",
    "        break\n",
    "\n",
    "###while loop\n",
    "###executed based on a condition\n",
    "index=0\n",
    "while (index<20):\n",
    "    if(index==10):\n",
    "        continue\n",
    "    start=middle\n",
    "    end=start+middle\n",
    "    print(end)\n",
    "    if (end>endNumber):\n",
    "        break\n",
    "    index=index+1\n",
    "\n",
    "    ###when should I use for loop and when should I use while loop\n",
    "    \n",
    "\n",
    "\n"
   ]
  },
  {
   "cell_type": "code",
   "execution_count": 0,
   "metadata": {
    "application/vnd.databricks.v1+cell": {
     "cellMetadata": {
      "byteLimit": 2048000,
      "rowLimit": 10000
     },
     "inputWidgets": {},
     "nuid": "86d960aa-7146-48be-a5a8-59290c0647f2",
     "showTitle": false,
     "title": ""
    }
   },
   "outputs": [
    {
     "output_type": "stream",
     "name": "stdout",
     "output_type": "stream",
     "text": [
      "sanjoy\nolga\nraju\n"
     ]
    }
   ],
   "source": [
    "learnerName=\"Sanjoy\"\n",
    "learnerFeedback=4.5\n",
    "learnerNames=[\"sanjoy\",\"olga\",\"raju\"]\n",
    "lernerFeedbacks=[3,4,5]\n",
    "for index in range (3):\n",
    "    if (lernerFeedbacks[index]==5): print(learnerNames[index]+\"feedback:\" + \"It's very good\") \n",
    "    elif (lernerFeedbacks[index]>=4 and lernerFeedbacks[index]<5): print(learnerNames[index]+\"feedback:\" + \"good\")\n",
    "    elif (lernerFeedbacks[index]>=3 and lernerFeedbacks[index]<4):print(learnerNames[index]+\"feedback:\" + \"Avg\")\n",
    "    elif (lernerFeedbacks[index]>=2 and lernerFeedbacks[index]<3): print(learnerNames[index]+\"feedback:\" + \"bad\")\n",
    "    elif (lernerFeedbacks[index]>=1 and lernerFeedbacks[index]<2): print(learnerNames[index]+\"feedback:\" + \"very bad\")\n",
    "    else:print(\"Error\")\n"
   ]
  },
  {
   "cell_type": "code",
   "execution_count": 0,
   "metadata": {
    "application/vnd.databricks.v1+cell": {
     "cellMetadata": {
      "byteLimit": 2048000,
      "rowLimit": 10000
     },
     "inputWidgets": {},
     "nuid": "b2a2db06-7317-4719-915d-9b5dd9f7d015",
     "showTitle": false,
     "title": ""
    }
   },
   "outputs": [
    {
     "output_type": "stream",
     "name": "stdout",
     "output_type": "stream",
     "text": [
      "90\n"
     ]
    }
   ],
   "source": [
    "####abstraction and reusability\n",
    "##\n",
    "def calculateSum(end):\n",
    "    start=1\n",
    "#    end=20\n",
    "    sum=0\n",
    "    for index in range(start,end):\n",
    "        if(index%2==0):\n",
    "            #print(index,end='')\n",
    "            sum=sum+index\n",
    "    return (sum)\n",
    "result=calculateSum(20)\n",
    "print(result)\n",
    "###there can be multiple arguments but return statement only support one value\n",
    "###calculator application: input of two numbers and an operator and it wil return the calculations.\n"
   ]
  },
  {
   "cell_type": "code",
   "execution_count": 0,
   "metadata": {
    "application/vnd.databricks.v1+cell": {
     "cellMetadata": {
      "byteLimit": 2048000,
      "rowLimit": 10000
     },
     "inputWidgets": {},
     "nuid": "30e3903e-f4b5-4400-8562-b349d8f94719",
     "showTitle": false,
     "title": ""
    }
   },
   "outputs": [
    {
     "output_type": "stream",
     "name": "stdout",
     "output_type": "stream",
     "text": [
      "15\n"
     ]
    }
   ],
   "source": [
    "def calculate(num1, num2, operator='+'):\n",
    "    if operator == '+':\n",
    "        return num1 + num2\n",
    "    elif operator == '-':\n",
    "        return num1 - num2\n",
    "    elif operator == '*':\n",
    "        return num1 * num2\n",
    "    elif operator == '/':\n",
    "        return num1 / num2 if num2 != 0 else 'Division by zero'\n",
    "    else:\n",
    "        return 'Invalid operator'\n",
    "\n",
    "# Example Usage\n",
    "result = calculate(10, 5)\n",
    "print(result)"
   ]
  },
  {
   "cell_type": "code",
   "execution_count": 0,
   "metadata": {
    "application/vnd.databricks.v1+cell": {
     "cellMetadata": {
      "byteLimit": 2048000,
      "rowLimit": 10000
     },
     "inputWidgets": {},
     "nuid": "ffa476b0-21aa-4bdd-942c-c658497112e4",
     "showTitle": false,
     "title": ""
    }
   },
   "outputs": [
    {
     "output_type": "stream",
     "name": "stdout",
     "output_type": "stream",
     "text": [
      "29\n"
     ]
    }
   ],
   "source": [
    "\n",
    "###***Args: * : Only Value is being passed\n",
    "##** key and value is being passed\n",
    "def sumNumbers(*nums):\n",
    "    sum=0\n",
    "    for num in nums:\n",
    "        sum=sum+num\n",
    "    return sum\n",
    "result=sumNumbers(2,3,7,8,9)\n",
    "print(result)"
   ]
  },
  {
   "cell_type": "code",
   "execution_count": 0,
   "metadata": {
    "application/vnd.databricks.v1+cell": {
     "cellMetadata": {
      "byteLimit": 2048000,
      "rowLimit": 10000
     },
     "inputWidgets": {},
     "nuid": "d99737d3-d6c7-4d46-9185-70ba42e01b87",
     "showTitle": false,
     "title": ""
    }
   },
   "outputs": [
    {
     "output_type": "stream",
     "name": "stdout",
     "output_type": "stream",
     "text": [
      "Sanjoy Paul 45\nSanjoy 38\n"
     ]
    }
   ],
   "source": [
    "###call by value and call by reference\n",
    "name=\"Sanjoy\"\n",
    "age=38\n",
    "def modify(name,age):\n",
    "    name=\"Sanjoy Paul\"\n",
    "    age=45\n",
    "    print(name,age)\n",
    "modify(name,age)\n",
    "print(name,age)\n",
    "\n"
   ]
  },
  {
   "cell_type": "code",
   "execution_count": 0,
   "metadata": {
    "application/vnd.databricks.v1+cell": {
     "cellMetadata": {},
     "inputWidgets": {},
     "nuid": "be4338d1-c872-4a93-a774-f8ae606b2427",
     "showTitle": false,
     "title": ""
    }
   },
   "outputs": [],
   "source": [
    "names=[\"Sanjoy\",\"olga\",\"raju\"]\n",
    "def modify(names):\n",
    "    names.append(\"Cowhill\")\n",
    "modify(names)\n",
    "print(names)\n",
    "##import "
   ]
  }
 ],
 "metadata": {
  "application/vnd.databricks.v1+notebook": {
   "dashboards": [],
   "language": "python",
   "notebookMetadata": {
    "pythonIndentUnit": 4
   },
   "notebookName": "Fedex Notebook",
   "widgets": {}
  }
 },
 "nbformat": 4,
 "nbformat_minor": 0
}
