{
 "cells": [
  {
   "cell_type": "markdown",
   "id": "9bdc8e21",
   "metadata": {},
   "source": [
    "# Error Handling in Python\n",
    "## Beginner Level"
   ]
  },
  {
   "cell_type": "markdown",
   "id": "d645bebe",
   "metadata": {},
   "source": [
    "### In-Class Problem: Safe Division\n",
    "Write a Python function for dividing two numbers that safely handles a division by zero."
   ]
  },
  {
   "cell_type": "code",
   "execution_count": null,
   "id": "99076ae3",
   "metadata": {},
   "outputs": [],
   "source": [
    "def safe_divide(a, b):\n",
    "    try:\n",
    "        return a / b\n",
    "    except ZeroDivisionError:\n",
    "        return 'Cannot divide by zero.'\n",
    "\n",
    "# Example Usage\n",
    "print(safe_divide(10, 0))"
   ]
  },
  {
   "cell_type": "markdown",
   "id": "fceb1205",
   "metadata": {},
   "source": [
    "### Assignment: Basic Calculator with Error Handling\n",
    "Create a basic calculator function that handles both division by zero and invalid operator inputs."
   ]
  },
  {
   "cell_type": "code",
   "execution_count": null,
   "id": "1078af82",
   "metadata": {},
   "outputs": [],
   "source": [
    "def basic_calculator(num1, num2, operator):\n",
    "    try:\n",
    "        if operator == '+':\n",
    "            return num1 + num2\n",
    "        elif operator == '-':\n",
    "            return num1 - num2\n",
    "        elif operator == '*':\n",
    "            return num1 * num2\n",
    "        elif operator == '/':\n",
    "            return num1 / num2\n",
    "        else:\n",
    "            raise ValueError('Invalid operator')\n",
    "    except ZeroDivisionError:\n",
    "        return 'Cannot divide by zero.'\n",
    "    except ValueError as ve:\n",
    "        return str(ve)"
   ]
  }
 ],
 "metadata": {},
 "nbformat": 4,
 "nbformat_minor": 5
}
