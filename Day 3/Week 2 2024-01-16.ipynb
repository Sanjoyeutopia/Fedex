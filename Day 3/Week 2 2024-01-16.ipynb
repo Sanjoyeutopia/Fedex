{
 "cells": [
  {
   "cell_type": "code",
   "execution_count": 0,
   "metadata": {
    "application/vnd.databricks.v1+cell": {
     "cellMetadata": {
      "byteLimit": 2048000,
      "rowLimit": 10000
     },
     "inputWidgets": {},
     "nuid": "8769e812-2313-4167-ad46-93626af9d766",
     "showTitle": false,
     "title": ""
    }
   },
   "outputs": [
    {
     "output_type": "stream",
     "name": "stdout",
     "output_type": "stream",
     "text": [
      "Hello World\nthe cost of Coke is 35  and it is in soft Drinks\nthe cost of Apple is 4  and it is in fruits\nthe cost of Banana is 2  and it is in fruits\n"
     ]
    }
   ],
   "source": [
    "print(\"Hello World\")\n",
    "###We want to create  lists of products , prices and categories.\n",
    "###Function 1 , print all the product information.\n",
    "###Function 2 , print the product by name \n",
    "###Function 3, add a new product to the lists\n",
    "productNames=[\"Coke\", \"Apple\", \"Banana\"]\n",
    "prices=[35,4,2]\n",
    "categories=[\"soft Drinks\",\"fruits\",\"fruits\"]\n",
    "###the cost of coke is $35 and it is in soft Drinks category\n",
    "##function2(\"ProductName\")::::: Price, category\n",
    "###function3(\"football\",\"45\",\"Sports\")::: This would add data to the list\n",
    "###calling function 1 again\n",
    "def printAllProducts():\n",
    "    for i in range(len(productNames)):\n",
    "        print(\"the cost of\", productNames[i],\"is\", prices[i],\" and it is in\", categories[i])\n",
    "\n",
    "printAllProducts()\n",
    "\n",
    "def findProductbyName(name):\n",
    "    findIndex=productNames.index(name)\n",
    "    print(prices[findIndex])\n",
    "    print(categories[findIndex])\n",
    "\n",
    "def addProduct(name,price,category):\n",
    "    productNames.append(name)\n",
    "    prices.append(price)\n",
    "    categories.append(category)\n",
    "\n",
    "\n"
   ]
  },
  {
   "cell_type": "code",
   "execution_count": 0,
   "metadata": {
    "application/vnd.databricks.v1+cell": {
     "cellMetadata": {
      "byteLimit": 2048000,
      "rowLimit": 10000
     },
     "inputWidgets": {},
     "nuid": "2b978d5e-5269-4c77-9b84-21aad1b26c84",
     "showTitle": false,
     "title": ""
    }
   },
   "outputs": [
    {
     "output_type": "stream",
     "name": "stdout",
     "output_type": "stream",
     "text": [
      "Coke\nsoftDrinks\n{'name': 'Coke', 'price': 35, 'category': 'Soda'}\n"
     ]
    },
    {
     "output_type": "display_data",
     "data": {
      "text/plain": [
       "\u001B[0;31m---------------------------------------------------------------------------\u001B[0m\n",
       "\u001B[0;31mKeyError\u001B[0m                                  Traceback (most recent call last)\n",
       "File \u001B[0;32m<command-2983051930519077>, line 29\u001B[0m\n",
       "\u001B[1;32m     16\u001B[0m productDictNested\u001B[38;5;241m=\u001B[39m{\u001B[38;5;124m\"\u001B[39m\u001B[38;5;124mname\u001B[39m\u001B[38;5;124m\"\u001B[39m:\u001B[38;5;124m\"\u001B[39m\u001B[38;5;124mCoke\u001B[39m\u001B[38;5;124m\"\u001B[39m,\n",
       "\u001B[1;32m     17\u001B[0m              \u001B[38;5;124m\"\u001B[39m\u001B[38;5;124mprice\u001B[39m\u001B[38;5;124m\"\u001B[39m:\u001B[38;5;241m35\u001B[39m,\n",
       "\u001B[1;32m     18\u001B[0m              \u001B[38;5;124m\"\u001B[39m\u001B[38;5;124mcategory\u001B[39m\u001B[38;5;124m\"\u001B[39m:\u001B[38;5;124m\"\u001B[39m\u001B[38;5;124msoftDrinks\u001B[39m\u001B[38;5;124m\"\u001B[39m,\n",
       "\u001B[0;32m   (...)\u001B[0m\n",
       "\u001B[1;32m     25\u001B[0m                  }\n",
       "\u001B[1;32m     26\u001B[0m              }}\n",
       "\u001B[1;32m     28\u001B[0m \u001B[38;5;66;03m##I want to print the value of line 2 \u001B[39;00m\n",
       "\u001B[0;32m---> 29\u001B[0m productDictNested[\u001B[38;5;124m\"\u001B[39m\u001B[38;5;124mstore\u001B[39m\u001B[38;5;124m\"\u001B[39m][\u001B[38;5;124m\"\u001B[39m\u001B[38;5;124mAddress\u001B[39m\u001B[38;5;124m\"\u001B[39m][\u001B[38;5;124m\"\u001B[39m\u001B[38;5;124mLine2\u001B[39m\u001B[38;5;124m\"\u001B[39m]\n",
       "\u001B[1;32m     30\u001B[0m products\u001B[38;5;241m=\u001B[39m[{\u001B[38;5;124m\"\u001B[39m\u001B[38;5;124mname\u001B[39m\u001B[38;5;124m\"\u001B[39m:\u001B[38;5;124m\"\u001B[39m\u001B[38;5;124mCoke\u001B[39m\u001B[38;5;124m\"\u001B[39m,\n",
       "\u001B[1;32m     31\u001B[0m              \u001B[38;5;124m\"\u001B[39m\u001B[38;5;124mprice\u001B[39m\u001B[38;5;124m\"\u001B[39m:\u001B[38;5;241m35\u001B[39m,\n",
       "\u001B[1;32m     32\u001B[0m              \u001B[38;5;124m\"\u001B[39m\u001B[38;5;124mcategory\u001B[39m\u001B[38;5;124m\"\u001B[39m:\u001B[38;5;124m\"\u001B[39m\u001B[38;5;124msoftDrinks\u001B[39m\u001B[38;5;124m\"\u001B[39m},\n",
       "\u001B[1;32m     33\u001B[0m           {\u001B[38;5;124m\"\u001B[39m\u001B[38;5;124mname\u001B[39m\u001B[38;5;124m\"\u001B[39m:\u001B[38;5;124m\"\u001B[39m\u001B[38;5;124mApple\u001B[39m\u001B[38;5;124m\"\u001B[39m,\n",
       "\u001B[1;32m     34\u001B[0m              \u001B[38;5;124m\"\u001B[39m\u001B[38;5;124mprice\u001B[39m\u001B[38;5;124m\"\u001B[39m:\u001B[38;5;241m5\u001B[39m,\n",
       "\u001B[1;32m     35\u001B[0m              \u001B[38;5;124m\"\u001B[39m\u001B[38;5;124mcategory\u001B[39m\u001B[38;5;124m\"\u001B[39m:\u001B[38;5;124m\"\u001B[39m\u001B[38;5;124mfruits\u001B[39m\u001B[38;5;124m\"\u001B[39m}]\n",
       "\u001B[1;32m     37\u001B[0m products[\u001B[38;5;241m1\u001B[39m][\u001B[38;5;124m\"\u001B[39m\u001B[38;5;124mcategory\u001B[39m\u001B[38;5;124m\"\u001B[39m]\n",
       "\n",
       "\u001B[0;31mKeyError\u001B[0m: 'Line2'"
      ]
     },
     "metadata": {
      "application/vnd.databricks.v1+output": {
       "arguments": {},
       "data": "\u001B[0;31m---------------------------------------------------------------------------\u001B[0m\n\u001B[0;31mKeyError\u001B[0m                                  Traceback (most recent call last)\nFile \u001B[0;32m<command-2983051930519077>, line 29\u001B[0m\n\u001B[1;32m     16\u001B[0m productDictNested\u001B[38;5;241m=\u001B[39m{\u001B[38;5;124m\"\u001B[39m\u001B[38;5;124mname\u001B[39m\u001B[38;5;124m\"\u001B[39m:\u001B[38;5;124m\"\u001B[39m\u001B[38;5;124mCoke\u001B[39m\u001B[38;5;124m\"\u001B[39m,\n\u001B[1;32m     17\u001B[0m              \u001B[38;5;124m\"\u001B[39m\u001B[38;5;124mprice\u001B[39m\u001B[38;5;124m\"\u001B[39m:\u001B[38;5;241m35\u001B[39m,\n\u001B[1;32m     18\u001B[0m              \u001B[38;5;124m\"\u001B[39m\u001B[38;5;124mcategory\u001B[39m\u001B[38;5;124m\"\u001B[39m:\u001B[38;5;124m\"\u001B[39m\u001B[38;5;124msoftDrinks\u001B[39m\u001B[38;5;124m\"\u001B[39m,\n\u001B[0;32m   (...)\u001B[0m\n\u001B[1;32m     25\u001B[0m                  }\n\u001B[1;32m     26\u001B[0m              }}\n\u001B[1;32m     28\u001B[0m \u001B[38;5;66;03m##I want to print the value of line 2 \u001B[39;00m\n\u001B[0;32m---> 29\u001B[0m productDictNested[\u001B[38;5;124m\"\u001B[39m\u001B[38;5;124mstore\u001B[39m\u001B[38;5;124m\"\u001B[39m][\u001B[38;5;124m\"\u001B[39m\u001B[38;5;124mAddress\u001B[39m\u001B[38;5;124m\"\u001B[39m][\u001B[38;5;124m\"\u001B[39m\u001B[38;5;124mLine2\u001B[39m\u001B[38;5;124m\"\u001B[39m]\n\u001B[1;32m     30\u001B[0m products\u001B[38;5;241m=\u001B[39m[{\u001B[38;5;124m\"\u001B[39m\u001B[38;5;124mname\u001B[39m\u001B[38;5;124m\"\u001B[39m:\u001B[38;5;124m\"\u001B[39m\u001B[38;5;124mCoke\u001B[39m\u001B[38;5;124m\"\u001B[39m,\n\u001B[1;32m     31\u001B[0m              \u001B[38;5;124m\"\u001B[39m\u001B[38;5;124mprice\u001B[39m\u001B[38;5;124m\"\u001B[39m:\u001B[38;5;241m35\u001B[39m,\n\u001B[1;32m     32\u001B[0m              \u001B[38;5;124m\"\u001B[39m\u001B[38;5;124mcategory\u001B[39m\u001B[38;5;124m\"\u001B[39m:\u001B[38;5;124m\"\u001B[39m\u001B[38;5;124msoftDrinks\u001B[39m\u001B[38;5;124m\"\u001B[39m},\n\u001B[1;32m     33\u001B[0m           {\u001B[38;5;124m\"\u001B[39m\u001B[38;5;124mname\u001B[39m\u001B[38;5;124m\"\u001B[39m:\u001B[38;5;124m\"\u001B[39m\u001B[38;5;124mApple\u001B[39m\u001B[38;5;124m\"\u001B[39m,\n\u001B[1;32m     34\u001B[0m              \u001B[38;5;124m\"\u001B[39m\u001B[38;5;124mprice\u001B[39m\u001B[38;5;124m\"\u001B[39m:\u001B[38;5;241m5\u001B[39m,\n\u001B[1;32m     35\u001B[0m              \u001B[38;5;124m\"\u001B[39m\u001B[38;5;124mcategory\u001B[39m\u001B[38;5;124m\"\u001B[39m:\u001B[38;5;124m\"\u001B[39m\u001B[38;5;124mfruits\u001B[39m\u001B[38;5;124m\"\u001B[39m}]\n\u001B[1;32m     37\u001B[0m products[\u001B[38;5;241m1\u001B[39m][\u001B[38;5;124m\"\u001B[39m\u001B[38;5;124mcategory\u001B[39m\u001B[38;5;124m\"\u001B[39m]\n\n\u001B[0;31mKeyError\u001B[0m: 'Line2'",
       "errorSummary": "<span class='ansi-red-fg'>KeyError</span>: 'Line2'",
       "errorTraceType": "ansi",
       "metadata": {},
       "type": "ipynbError"
      }
     },
     "output_type": "display_data"
    }
   ],
   "source": [
    "productNames=[\"Coke\", \"Apple\", \"Banana\",\"M&M\"]\n",
    "prices=[35,4,2,30]\n",
    "categories=[\"soft Drinks\",\"fruits\",\"fruits\"]\n",
    "###every list is having same number of elements\n",
    "###indexing is properly done\n",
    "###datastructures: \n",
    "###value , key\n",
    "productDict={\"name\":\"Coke\",\n",
    "             \"price\":35,\n",
    "             \"category\":\"softDrinks\"}\n",
    "print(productDict[\"name\"])\n",
    "print(productDict[\"category\"])\n",
    "productDict[\"category\"]=\"Soda\"\n",
    "print(productDict)\n",
    "###nested dictionary\n",
    "productDictNested={\"name\":\"Coke\",\n",
    "             \"price\":35,\n",
    "             \"category\":\"softDrinks\",\n",
    "             \"store\":{\n",
    "                 \"name\":\"Nashville\",\n",
    "                 \"Address\":{\n",
    "                     \"Line1\":\"Downtown\",\n",
    "                     \"line2\":\"Line 2\",\n",
    "                     \"pin\":\"1234567\"\n",
    "                 }\n",
    "             }}\n",
    "\n",
    "##I want to print the value of line 2 \n",
    "productDictNested[\"store\"][\"Address\"][\"Line2\"]\n",
    "products=[{\"name\":\"Coke\",\n",
    "             \"price\":35,\n",
    "             \"category\":\"softDrinks\"},\n",
    "          {\"name\":\"Apple\",\n",
    "             \"price\":5,\n",
    "             \"category\":\"fruits\"}]\n",
    "\n",
    "products[1][\"category\"]\n",
    "def findProductbyName(name):\n",
    "    for index in len(products):\n",
    "        if(name==products[index][\"name\"]):\n",
    "            print(products[index][\"price\"],products[index][\"category\"])\n",
    "\n",
    "def addProduct(name,price,category):\n",
    "    product={}\n",
    "    product[\"name\"]=name\n",
    "    product[\"price\"]=price\n",
    "    product[\"category\"]=category\n",
    "    products.append(product)\n",
    "\n",
    "\n",
    "\n",
    "\n",
    "\n",
    "\n",
    "\n",
    "\n",
    "\n",
    "\n",
    "\n",
    "    \n",
    "\n",
    "\n"
   ]
  },
  {
   "cell_type": "code",
   "execution_count": 0,
   "metadata": {
    "application/vnd.databricks.v1+cell": {
     "cellMetadata": {
      "byteLimit": 2048000,
      "rowLimit": 10000
     },
     "inputWidgets": {},
     "nuid": "c69369bf-a623-43a1-ba05-efa9e6c22738",
     "showTitle": false,
     "title": ""
    }
   },
   "outputs": [
    {
     "output_type": "stream",
     "name": "stdout",
     "output_type": "stream",
     "text": [
      "('name', 'Apple')\n('price', 5)\n('category', 'fruits')\n"
     ]
    },
    {
     "output_type": "display_data",
     "data": {
      "text/plain": [
       "\u001B[0;31m---------------------------------------------------------------------------\u001B[0m\n",
       "\u001B[0;31mAttributeError\u001B[0m                            Traceback (most recent call last)\n",
       "File \u001B[0;32m<command-2983051930519078>, line 23\u001B[0m\n",
       "\u001B[1;32m     21\u001B[0m marksList\u001B[38;5;241m.\u001B[39msort()\n",
       "\u001B[1;32m     22\u001B[0m marksList\u001B[38;5;241m.\u001B[39msort(reverse\u001B[38;5;241m=\u001B[39m\u001B[38;5;28;01mTrue\u001B[39;00m)\n",
       "\u001B[0;32m---> 23\u001B[0m marksList\u001B[38;5;241m.\u001B[39mreversed()\n",
       "\u001B[1;32m     24\u001B[0m \u001B[38;5;66;03m###mutable and immmutable \u001B[39;00m\n",
       "\u001B[1;32m     25\u001B[0m \u001B[38;5;66;03m##\u001B[39;00m\n",
       "\n",
       "\u001B[0;31mAttributeError\u001B[0m: 'list' object has no attribute 'reversed'"
      ]
     },
     "metadata": {
      "application/vnd.databricks.v1+output": {
       "arguments": {},
       "data": "\u001B[0;31m---------------------------------------------------------------------------\u001B[0m\n\u001B[0;31mAttributeError\u001B[0m                            Traceback (most recent call last)\nFile \u001B[0;32m<command-2983051930519078>, line 23\u001B[0m\n\u001B[1;32m     21\u001B[0m marksList\u001B[38;5;241m.\u001B[39msort()\n\u001B[1;32m     22\u001B[0m marksList\u001B[38;5;241m.\u001B[39msort(reverse\u001B[38;5;241m=\u001B[39m\u001B[38;5;28;01mTrue\u001B[39;00m)\n\u001B[0;32m---> 23\u001B[0m marksList\u001B[38;5;241m.\u001B[39mreversed()\n\u001B[1;32m     24\u001B[0m \u001B[38;5;66;03m###mutable and immmutable \u001B[39;00m\n\u001B[1;32m     25\u001B[0m \u001B[38;5;66;03m##\u001B[39;00m\n\n\u001B[0;31mAttributeError\u001B[0m: 'list' object has no attribute 'reversed'",
       "errorSummary": "<span class='ansi-red-fg'>AttributeError</span>: 'list' object has no attribute 'reversed'",
       "errorTraceType": "ansi",
       "metadata": {},
       "type": "ipynbError"
      }
     },
     "output_type": "display_data"
    }
   ],
   "source": [
    "products=[{\"name\":\"Coke\",\n",
    "             \"price\":35,\n",
    "             \"category\":\"softDrinks\"},\n",
    "          {\"name\":\"Apple\",\n",
    "             \"price\":5,\n",
    "             \"category\":\"fruits\"}]\n",
    "product={\"name\":\"Apple\",\n",
    "             \"price\":5,\n",
    "             \"category\":\"fruits\"}\n",
    "#print(product.keys())\n",
    "#print(product.values())\n",
    "\n",
    "####list of dictionary\n",
    "####JSON: \n",
    "#print(product.items())\n",
    "###in : \n",
    "for item in product.items():\n",
    "    print(item)\n",
    "\n",
    "marksList=[23,45,67,89]\n",
    "marksList.sort()\n",
    "marksList.sort(reverse=True)\n",
    "marksList.reversed()\n",
    "###mutable and immmutable \n",
    "##\n",
    "\n",
    "\n",
    "\n",
    "\n",
    "\n",
    "\n"
   ]
  }
 ],
 "metadata": {
  "application/vnd.databricks.v1+notebook": {
   "dashboards": [],
   "language": "python",
   "notebookMetadata": {
    "pythonIndentUnit": 4
   },
   "notebookName": "Week 2 2024-01-16",
   "widgets": {}
  }
 },
 "nbformat": 4,
 "nbformat_minor": 0
}
