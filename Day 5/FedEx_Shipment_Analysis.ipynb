{
 "cells": [
  {
   "cell_type": "code",
   "execution_count": null,
   "id": "02d3e897",
   "metadata": {},
   "outputs": [],
   "source": [
    "    import json\n",
    "    from functools import reduce\n",
    "\n",
    "    # Sample Data\n",
    "    shipments_data = [\n",
    "        {\"shipment_id\": \"FDX12345\", \"origin\": \"New York\", \"destination\": \"Los Angeles\", \"weight\": 5.2, \"type\": \"Electronics\", \"status\": \"Delivered\", \"delivery_date\": \"2024-01-15\"},\n",
    "        {\"shipment_id\": \"FDX12346\", \"origin\": \"Chicago\", \"destination\": \"Houston\", \"weight\": 15.4, \"type\": \"Clothing\", \"status\": \"In Transit\", \"delivery_date\": \"2024-01-20\"},\n",
    "        {\"shipment_id\": \"FDX12347\", \"origin\": \"San Francisco\", \"destination\": \"Seattle\", \"weight\": 8.6, \"type\": \"Books\", \"status\": \"Delivered\", \"delivery_date\": \"2024-01-12\"},\n",
    "        # ... more data ...\n",
    "    ]\n",
    "    "
   ]
  },
  {
   "cell_type": "code",
   "execution_count": null,
   "id": "7dbacd34",
   "metadata": {},
   "outputs": [],
   "source": [
    "    # Using filter\n",
    "    # Basic: Filter out all shipments that are still 'In Transit'.\n",
    "    in_transit_shipments = list(filter(lambda x: x['status'] == 'In Transit', shipments_data))\n",
    "    "
   ]
  },
  {
   "cell_type": "code",
   "execution_count": null,
   "id": "65ef325c",
   "metadata": {},
   "outputs": [],
   "source": [
    "    # Intermediate: Filter shipments where the weight is greater than 10 kg and the status is 'Delivered'.\n",
    "    heavy_delivered = list(filter(lambda x: x['weight'] > 10 and x['status'] == 'Delivered', shipments_data))\n",
    "    "
   ]
  },
  {
   "cell_type": "code",
   "execution_count": null,
   "id": "c8d6b324",
   "metadata": {},
   "outputs": [],
   "source": [
    "    # Advanced: Filter out shipments destined for 'Los Angeles' that were delivered late.\n",
    "    # Assuming 'late' means after '2024-01-15'\n",
    "    late_deliveries_LA = list(filter(lambda x: x['destination'] == 'Los Angeles' and x['status'] == 'Delayed' and x['delivery_date'] > '2024-01-15', shipments_data))\n",
    "    "
   ]
  },
  {
   "cell_type": "code",
   "execution_count": null,
   "id": "e84e7f73",
   "metadata": {},
   "outputs": [],
   "source": [
    "    # Using map\n",
    "    # Basic: Create a list of all shipment weights rounded to the nearest whole number.\n",
    "    rounded_weights = list(map(lambda x: round(x['weight']), shipments_data))\n",
    "    "
   ]
  },
  {
   "cell_type": "code",
   "execution_count": null,
   "id": "5b9f36c0",
   "metadata": {},
   "outputs": [],
   "source": [
    "    # Intermediate: Map each shipment to a tuple containing shipment ID and the length of its route.\n",
    "    shipment_route_lengths = list(map(lambda x: (x['shipment_id'], len(x['origin'] + x['destination'])), shipments_data))\n",
    "    "
   ]
  },
  {
   "cell_type": "code",
   "execution_count": null,
   "id": "24adaa81",
   "metadata": {},
   "outputs": [],
   "source": [
    "    # Advanced: Transform each shipment record into a dictionary with keys 'ID', 'Route', 'Weight-Category'.\n",
    "    transformed_shipments = list(map(lambda x: {'ID': x['shipment_id'], 'Route': f\"{x['origin']}-{x['destination']}\", 'Weight-Category': 'heavy' if x['weight'] > 15 else 'medium' if x['weight'] > 5 else 'light'}, shipments_data))\n",
    "    "
   ]
  },
  {
   "cell_type": "code",
   "execution_count": null,
   "id": "84ce6310",
   "metadata": {},
   "outputs": [],
   "source": [
    "    # Using reduce\n",
    "    # Basic: Calculate the total number of shipments.\n",
    "    total_shipments = reduce(lambda acc, _: acc + 1, shipments_data, 0)\n",
    "    "
   ]
  },
  {
   "cell_type": "code",
   "execution_count": null,
   "id": "33a9ad05",
   "metadata": {},
   "outputs": [],
   "source": [
    "    # Intermediate: Find the average weight of all shipments.\n",
    "    total_weight = reduce(lambda acc, x: acc + x['weight'], shipments_data, 0)\n",
    "    average_weight = total_weight / len(shipments_data) if shipments_data else 0\n",
    "    "
   ]
  },
  {
   "cell_type": "code",
   "execution_count": null,
   "id": "5d1340f8",
   "metadata": {},
   "outputs": [],
   "source": [
    "    # Advanced: Determine the most frequently occurring origin-destination pair.\n",
    "    route_counts = reduce(lambda acc, x: acc.update({(x['origin'], x['destination']): acc.get((x['origin'], x['destination']), 0) + 1}) or acc, shipments_data, {})\n",
    "    most_frequent_route = max(route_counts, key=route_counts.get) if route_counts else None\n",
    "    "
   ]
  }
 ],
 "metadata": {},
 "nbformat": 4,
 "nbformat_minor": 5
}
