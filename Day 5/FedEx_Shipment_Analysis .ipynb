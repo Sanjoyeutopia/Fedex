{
 "cells": [
  {
   "cell_type": "code",
   "execution_count": 0,
   "metadata": {
    "application/vnd.databricks.v1+cell": {
     "cellMetadata": {
      "byteLimit": 2048000,
      "rowLimit": 10000
     },
     "inputWidgets": {},
     "nuid": "8e183ca5-89a3-4071-95e7-d6074c1873a4",
     "showTitle": false,
     "title": ""
    }
   },
   "outputs": [
    {
     "output_type": "stream",
     "name": "stdout",
     "output_type": "stream",
     "text": [
      "9\n9\n"
     ]
    }
   ],
   "source": [
    "###refresher\n",
    "def addition(x,y):\n",
    "    return x+y\n",
    "result=addition(5,4)\n",
    "print(result)\n",
    "###\n",
    "#variable=lambda x,y: x+y\n",
    "add=lambda x,y: x+y\n",
    "print(add(5,4))"
   ]
  },
  {
   "cell_type": "code",
   "execution_count": 0,
   "metadata": {
    "application/vnd.databricks.v1+cell": {
     "cellMetadata": {},
     "inputWidgets": {},
     "nuid": "7d5b73b3-e83f-4925-915b-203f575a5b02",
     "showTitle": false,
     "title": ""
    }
   },
   "outputs": [],
   "source": []
  },
  {
   "cell_type": "code",
   "execution_count": 0,
   "metadata": {
    "application/vnd.databricks.v1+cell": {
     "cellMetadata": {
      "byteLimit": 2048000,
      "rowLimit": 10000
     },
     "inputWidgets": {},
     "nuid": "b7b74b30-e119-403e-a0ff-90e3f9390c9e",
     "showTitle": false,
     "title": ""
    }
   },
   "outputs": [
    {
     "output_type": "stream",
     "name": "stdout",
     "output_type": "stream",
     "text": [
      "[40, 50, 55, 70]\n"
     ]
    }
   ],
   "source": [
    "marks=[35,45,50,65]\n",
    "###i need to increase the value of each element of the list\n",
    "\n",
    "###map: whatever function that we write will be applicable for each and every element of that list.\n",
    "add=list(map(lambda x: x+5, marks))\n",
    "\n",
    "####MAP(lambda x : function,)\n",
    "print(add)\n",
    "\n"
   ]
  },
  {
   "cell_type": "code",
   "execution_count": 0,
   "metadata": {
    "application/vnd.databricks.v1+cell": {
     "cellMetadata": {
      "byteLimit": 2048000,
      "rowLimit": 10000
     },
     "inputWidgets": {},
     "nuid": "2a84dd61-621b-4608-ad8f-7019446d21de",
     "showTitle": false,
     "title": ""
    }
   },
   "outputs": [
    {
     "output_type": "stream",
     "name": "stdout",
     "output_type": "stream",
     "text": [
      "[35, 45, 50, 65]\n[45, 50, 65]\n"
     ]
    }
   ],
   "source": [
    "marksnew=[]\n",
    "for i in range(len(marks)):\n",
    "    if(marks[i]>30):\n",
    "        marksnew.append(marks[i])\n",
    "print(marksnew)\n",
    "###filter(lambda function, list)\n",
    "passingCandidates=list(filter(lambda x: x>40,marks))\n",
    "print(passingCandidates)\n",
    "\n",
    "#### there will be a list where i need to create a new list with even numbers from that list\n",
    "####nested loops\n",
    "\n"
   ]
  },
  {
   "cell_type": "code",
   "execution_count": 0,
   "metadata": {
    "application/vnd.databricks.v1+cell": {
     "cellMetadata": {
      "byteLimit": 2048000,
      "rowLimit": 10000
     },
     "inputWidgets": {},
     "nuid": "80d0096c-bd1e-4064-9052-cfe4c512b1e5",
     "showTitle": false,
     "title": ""
    }
   },
   "outputs": [
    {
     "output_type": "stream",
     "name": "stdout",
     "output_type": "stream",
     "text": [
      "6\n7\n8\n9\n10\n11\n12\n13\n14\n"
     ]
    }
   ],
   "source": [
    "array_2d = [[1, 2, 3], [4, 5, 6], [7, 8, 9]]\n",
    "###Nested Loops\n",
    "for index in array_2d:\n",
    "    for subIndex in index:\n",
    "        print(str(subIndex+5))\n",
    "\n",
    "#nested map statement\n",
    "incrementedArray=list(map(lambda row:map(lambda element: print(elment),row),array_2d))\n",
    "\n",
    "\n",
    "###map and filter together\n",
    "\n",
    "#even numbers\n",
    "\n",
    "\n"
   ]
  },
  {
   "cell_type": "code",
   "execution_count": 0,
   "metadata": {
    "application/vnd.databricks.v1+cell": {
     "cellMetadata": {
      "byteLimit": 2048000,
      "rowLimit": 10000
     },
     "inputWidgets": {},
     "nuid": "011a59bd-308c-4f2c-9f37-06f3f5f72806",
     "showTitle": false,
     "title": ""
    }
   },
   "outputs": [
    {
     "output_type": "stream",
     "name": "stdout",
     "output_type": "stream",
     "text": [
      "[[6, 7, 8], [9, 10, 11], [12, 13, 14]]\n"
     ]
    }
   ],
   "source": [
    "array_2d = [[1, 2, 3], [4, 5, 6], [7, 8, 9]]\n",
    "incremented_array = list(map(lambda row: list(map(lambda x: x + 5, row)), array_2d))\n",
    "print(incremented_array)\n",
    "\n",
    "###sum of each sub row can be created.\n",
    "##sum function\n"
   ]
  },
  {
   "cell_type": "code",
   "execution_count": 0,
   "metadata": {
    "application/vnd.databricks.v1+cell": {
     "cellMetadata": {
      "byteLimit": 2048000,
      "rowLimit": 10000
     },
     "inputWidgets": {},
     "nuid": "38b464d4-9f83-4535-bd27-b761f92f6a3b",
     "showTitle": false,
     "title": ""
    }
   },
   "outputs": [
    {
     "output_type": "stream",
     "name": "stdout",
     "output_type": "stream",
     "text": [
      "[6, 15, 24]\n"
     ]
    }
   ],
   "source": [
    "array_2d = [[1, 2, 3], [4, 5, 6], [7, 8, 9]]\n",
    "result3 = list(map(lambda x: sum(x), array_2d))\n",
    "print(result3)\n",
    "###"
   ]
  },
  {
   "cell_type": "code",
   "execution_count": 0,
   "metadata": {
    "application/vnd.databricks.v1+cell": {
     "cellMetadata": {
      "byteLimit": 2048000,
      "rowLimit": 10000
     },
     "inputWidgets": {},
     "nuid": "4cbd151d-2a18-4a65-a4f1-4618ac636f16",
     "showTitle": false,
     "title": ""
    }
   },
   "outputs": [
    {
     "output_type": "stream",
     "name": "stdout",
     "output_type": "stream",
     "text": [
      "[[2], [4, 6], [8]]\n"
     ]
    }
   ],
   "source": [
    "incremented_array = list(map(lambda row: list(filter(lambda x: x %2==0, row)), array_2d))\n",
    "print(incremented_array)"
   ]
  },
  {
   "cell_type": "code",
   "execution_count": 0,
   "metadata": {
    "application/vnd.databricks.v1+cell": {
     "cellMetadata": {
      "byteLimit": 2048000,
      "rowLimit": 10000
     },
     "inputWidgets": {},
     "nuid": "be935ce3-f810-4433-baf7-81be16558224",
     "showTitle": false,
     "title": ""
    }
   },
   "outputs": [
    {
     "output_type": "execute_result",
     "data": {
      "text/plain": [
       "[[1, 2, 3], [2, 3, 4], [3, 4, 6]]"
      ]
     },
     "execution_count": 36,
     "metadata": {},
     "output_type": "execute_result"
    }
   ],
   "source": [
    "matrix = [[1,2,3],[2,3,4],[3,4,6]]\n",
    "list(map(lambda i: (i), matrix)) \n",
    "#print(rows)"
   ]
  },
  {
   "cell_type": "code",
   "execution_count": 0,
   "metadata": {
    "application/vnd.databricks.v1+cell": {
     "cellMetadata": {
      "byteLimit": 2048000,
      "rowLimit": 10000
     },
     "inputWidgets": {},
     "nuid": "44fea6a7-86e6-4358-82ae-8e59a42848e9",
     "showTitle": false,
     "title": ""
    }
   },
   "outputs": [
    {
     "output_type": "stream",
     "name": "stdout",
     "output_type": "stream",
     "text": [
      "120\n"
     ]
    }
   ],
   "source": [
    "##functools \n",
    "###reduce : it operates on two elements of the list \n",
    "###max number from a list\n",
    "###sum of list\n",
    "from functools import reduce\n",
    "\n",
    "numbers = [1, 2, 3, 4, 5]\n",
    "#1,2: 2,3: 6,4: 24: 5: 120\n",
    "\n",
    "\n",
    "def multiply(x, y):\n",
    "    return x * y\n",
    "\n",
    "result = reduce(lambda x,y:x*y, numbers)\n",
    "print(result)\n",
    "maximum_value = reduce(lambda a, b: a if a > b else b, numbers)\n",
    "print(maximum_value)\n",
    "\n",
    "probabiities=[0.8,0.9,0.5]\n",
    "###\n",
    "combineProbability=reduce(lambda x,y:x*y,probabilities)\n",
    "print(combineProbability)\n",
    "####get the maximum value from a list\n",
    "###if else based lambda function to check the maximum of those two numbers\n",
    "\n",
    "\n"
   ]
  },
  {
   "cell_type": "code",
   "execution_count": 0,
   "metadata": {
    "application/vnd.databricks.v1+cell": {
     "cellMetadata": {
      "byteLimit": 2048000,
      "rowLimit": 10000
     },
     "inputWidgets": {},
     "nuid": "eb0d6d9d-0449-4137-a2ab-3906dc44ab52",
     "showTitle": false,
     "title": ""
    }
   },
   "outputs": [
    {
     "output_type": "stream",
     "name": "stdout",
     "output_type": "stream",
     "text": [
      "0.36000000000000004\n"
     ]
    }
   ],
   "source": [
    "probabiities=[0.8,0.9,0.5]\n",
    "###\n",
    "combineProbability=reduce(lambda x,y:x*y,probabiities)\n",
    "print(combineProbability)"
   ]
  },
  {
   "cell_type": "code",
   "execution_count": 0,
   "metadata": {
    "application/vnd.databricks.v1+cell": {
     "cellMetadata": {
      "byteLimit": 2048000,
      "rowLimit": 10000
     },
     "inputWidgets": {},
     "nuid": "766de399-b389-4257-939d-80c2d1e12f61",
     "showTitle": false,
     "title": ""
    }
   },
   "outputs": [
    {
     "output_type": "stream",
     "name": "stdout",
     "output_type": "stream",
     "text": [
      "[3, 5, 1]\n"
     ]
    },
    {
     "output_type": "display_data",
     "data": {
      "text/plain": [
       "\u001B[0;31m---------------------------------------------------------------------------\u001B[0m\n",
       "\u001B[0;31mNameError\u001B[0m                                 Traceback (most recent call last)\n",
       "File \u001B[0;32m<command-3679969837728148>, line 6\u001B[0m\n",
       "\u001B[1;32m      3\u001B[0m min_value \u001B[38;5;241m=\u001B[39m reduce(\u001B[38;5;28;01mlambda\u001B[39;00m x, y: x \u001B[38;5;28;01mif\u001B[39;00m x \u001B[38;5;241m<\u001B[39m y \u001B[38;5;28;01melse\u001B[39;00m y,(\u001B[38;5;28mmap\u001B[39m(\u001B[38;5;28;01mlambda\u001B[39;00m row: row,data)))\n",
       "\u001B[1;32m      5\u001B[0m \u001B[38;5;28mprint\u001B[39m(min_value)  \u001B[38;5;66;03m# Output: Minimum value in the nested list\u001B[39;00m\n",
       "\u001B[0;32m----> 6\u001B[0m \u001B[38;5;28mprint\u001B[39m(max_value)  \u001B[38;5;66;03m# Output: Maximum value in the nested list\u001B[39;00m\n",
       "\u001B[1;32m      8\u001B[0m \u001B[38;5;66;03m##create cumultative sales analysis\u001B[39;00m\n",
       "\n",
       "\u001B[0;31mNameError\u001B[0m: name 'max_value' is not defined"
      ]
     },
     "metadata": {
      "application/vnd.databricks.v1+output": {
       "arguments": {},
       "data": "\u001B[0;31m---------------------------------------------------------------------------\u001B[0m\n\u001B[0;31mNameError\u001B[0m                                 Traceback (most recent call last)\nFile \u001B[0;32m<command-3679969837728148>, line 6\u001B[0m\n\u001B[1;32m      3\u001B[0m min_value \u001B[38;5;241m=\u001B[39m reduce(\u001B[38;5;28;01mlambda\u001B[39;00m x, y: x \u001B[38;5;28;01mif\u001B[39;00m x \u001B[38;5;241m<\u001B[39m y \u001B[38;5;28;01melse\u001B[39;00m y,(\u001B[38;5;28mmap\u001B[39m(\u001B[38;5;28;01mlambda\u001B[39;00m row: row,data)))\n\u001B[1;32m      5\u001B[0m \u001B[38;5;28mprint\u001B[39m(min_value)  \u001B[38;5;66;03m# Output: Minimum value in the nested list\u001B[39;00m\n\u001B[0;32m----> 6\u001B[0m \u001B[38;5;28mprint\u001B[39m(max_value)  \u001B[38;5;66;03m# Output: Maximum value in the nested list\u001B[39;00m\n\u001B[1;32m      8\u001B[0m \u001B[38;5;66;03m##create cumultative sales analysis\u001B[39;00m\n\n\u001B[0;31mNameError\u001B[0m: name 'max_value' is not defined",
       "errorSummary": "<span class='ansi-red-fg'>NameError</span>: name 'max_value' is not defined",
       "errorTraceType": "ansi",
       "metadata": {},
       "type": "ipynbError"
      }
     },
     "output_type": "display_data"
    }
   ],
   "source": [
    "\n",
    "data = [[3, 5, 1], [10, 7, 4], [5, 9, 2]]\n",
    "\n",
    "min_value = reduce(lambda x, y: x if x < y else y,(map(lambda row: row,data)))\n",
    "\n",
    "print(min_value)  # Output: Minimum value in the nested list\n",
    "#print(max_value)  # Output: Maximum value in the nested list\n",
    "\n",
    "##create cumultative sales analysis\n",
    "\n",
    "array2d2=[{\"r\":1,\"s\":2,\"t\":3},{\"r\":4,\"s\":5,\"t\":6},{\"r\":7,\"s\":8,\"t\":9},{\"r\":1,\"s\":4,\"t\":3}]\n",
    "\n",
    "\n"
   ]
  },
  {
   "cell_type": "code",
   "execution_count": 0,
   "metadata": {
    "application/vnd.databricks.v1+cell": {
     "cellMetadata": {
      "byteLimit": 2048000,
      "rowLimit": 10000
     },
     "inputWidgets": {},
     "nuid": "1ee5d8eb-02a6-4cff-8941-1a3f6050ea41",
     "showTitle": false,
     "title": ""
    }
   },
   "outputs": [
    {
     "output_type": "stream",
     "name": "stdout",
     "output_type": "stream",
     "text": [
      "[1, 2, 3, 2, 3, 4, 3, 4, 6]\n"
     ]
    }
   ],
   "source": [
    "matrix = [[1,2,3],[2,3,4],[3,4,6]]\n",
    "###flattened array : 1D array\n",
    "flattened=reduce(lambda x,y:x+y,matrix)\n",
    "print(flattened)\n",
    "##cget the minimum / maximum value of the 2D array\n"
   ]
  },
  {
   "cell_type": "code",
   "execution_count": 0,
   "metadata": {
    "application/vnd.databricks.v1+cell": {
     "cellMetadata": {
      "byteLimit": 2048000,
      "rowLimit": 10000
     },
     "inputWidgets": {},
     "nuid": "3438e7a6-5df8-4ef9-8504-154f15576ce2",
     "showTitle": false,
     "title": ""
    }
   },
   "outputs": [
    {
     "output_type": "stream",
     "name": "stdout",
     "output_type": "stream",
     "text": [
      "1\n"
     ]
    }
   ],
   "source": [
    "data = [[3, 5, 1], [10, 7, 4], [5, 9, 2]]\n",
    "\n",
    "data = [[3, 5, 1], [10, 7, 4], [5, 9, 2]]\n",
    "\n",
    "min_value = reduce(lambda x, y: x if x < min(y) else min(y), data,float('inf'))\n",
    "\n",
    "print(min_value)  # Output: Minimum value in the nested list\n",
    "\n"
   ]
  },
  {
   "cell_type": "code",
   "execution_count": 0,
   "metadata": {
    "application/vnd.databricks.v1+cell": {
     "cellMetadata": {
      "byteLimit": 2048000,
      "rowLimit": 10000
     },
     "inputWidgets": {},
     "nuid": "20d73f36-23e7-4253-b13d-4f2651555f95",
     "showTitle": false,
     "title": ""
    }
   },
   "outputs": [],
   "source": [
    "    import json\n",
    "    from functools import reduce\n",
    "\n",
    "    # Sample Data\n",
    "    shipments_data = [\n",
    "        {\"shipment_id\": \"FDX12345\", \"origin\": \"New York\", \"destination\": \"Los Angeles\", \"weight\": 5.2, \"type\": \"Electronics\", \"status\": \"Delivered\", \"delivery_date\": \"2024-01-15\"},\n",
    "        {\"shipment_id\": \"FDX12346\", \"origin\": \"Chicago\", \"destination\": \"Houston\", \"weight\": 15.4, \"type\": \"Clothing\", \"status\": \"In Transit\", \"delivery_date\": \"2024-01-20\"},\n",
    "        {\"shipment_id\": \"FDX12347\", \"origin\": \"San Francisco\", \"destination\": \"Seattle\", \"weight\": 8.6, \"type\": \"Books\", \"status\": \"Delivered\", \"delivery_date\": \"2024-01-12\"},\n",
    "        # ... more data ...\n",
    "    ]\n",
    "    "
   ]
  },
  {
   "cell_type": "code",
   "execution_count": 0,
   "metadata": {
    "application/vnd.databricks.v1+cell": {
     "cellMetadata": {
      "byteLimit": 2048000,
      "rowLimit": 10000
     },
     "inputWidgets": {},
     "nuid": "48bfffd3-c3d2-4a8a-aa53-be272acac4d4",
     "showTitle": false,
     "title": ""
    }
   },
   "outputs": [],
   "source": [
    "    # Using filter\n",
    "    # Basic: Filter out all shipments that are still 'In Transit'.\n",
    "    in_transit_shipments = list(filter(lambda x: x['status'] == 'In Transit', shipments_data))\n",
    "    "
   ]
  },
  {
   "cell_type": "code",
   "execution_count": 0,
   "metadata": {
    "application/vnd.databricks.v1+cell": {
     "cellMetadata": {},
     "inputWidgets": {},
     "nuid": "52697abd-0305-4317-8845-eae4adc579ec",
     "showTitle": false,
     "title": ""
    }
   },
   "outputs": [],
   "source": [
    "    # Intermediate: Filter shipments where the weight is greater than 10 kg and the status is 'Delivered'.\n",
    "    heavy_delivered = list(filter(lambda x: x['weight'] > 10 and x['status'] == 'Delivered', shipments_data))\n",
    "    "
   ]
  },
  {
   "cell_type": "code",
   "execution_count": 0,
   "metadata": {
    "application/vnd.databricks.v1+cell": {
     "cellMetadata": {},
     "inputWidgets": {},
     "nuid": "519967e2-6311-4475-918d-65ed20ceac97",
     "showTitle": false,
     "title": ""
    }
   },
   "outputs": [],
   "source": [
    "    # Advanced: Filter out shipments destined for 'Los Angeles' that were delivered late.\n",
    "    # Assuming 'late' means after '2024-01-15'\n",
    "    late_deliveries_LA = list(filter(lambda x: x['destination'] == 'Los Angeles' and x['status'] == 'Delayed' and x['delivery_date'] > '2024-01-15', shipments_data))\n",
    "    "
   ]
  },
  {
   "cell_type": "code",
   "execution_count": 0,
   "metadata": {
    "application/vnd.databricks.v1+cell": {
     "cellMetadata": {
      "byteLimit": 2048000,
      "rowLimit": 10000
     },
     "inputWidgets": {},
     "nuid": "59913652-205a-4909-8d14-256d43fb2c6f",
     "showTitle": false,
     "title": ""
    }
   },
   "outputs": [
    {
     "output_type": "stream",
     "name": "stdout",
     "output_type": "stream",
     "text": [
      "{'1': 6, '4': 5, '7': 8}\n[{'1': 6}, {'4': 5}, {'7': 8}]\n"
     ]
    }
   ],
   "source": [
    "\n",
    "\n",
    "lists = [{'1': 2}, {'4': 5}, {'7': 8}, {'1': 4}]\n",
    "\n",
    "#####\n",
    "# Reducing the list to a single dictionary with aggregated values\n",
    "aggregated_dict = reduce(lambda acc, curr: {**acc, **{k: acc.get(k, 0) + v for k, v in curr.items()}}, lists, {})\n",
    "\n",
    "print(aggregated_dict)\n",
    "\n",
    "# Transforming the dictionary back to the required list format\n",
    "aggregated_lists = [{k: v} for k, v in aggregated_dict.items()]\n",
    "\n",
    "print(aggregated_lists)\n",
    "\n",
    "\n",
    "#########\n",
    "\n"
   ]
  },
  {
   "cell_type": "code",
   "execution_count": 0,
   "metadata": {
    "application/vnd.databricks.v1+cell": {
     "cellMetadata": {
      "byteLimit": 2048000,
      "rowLimit": 10000
     },
     "inputWidgets": {},
     "nuid": "a07e6ca9-6b75-42d0-a496-2927a82b4203",
     "showTitle": false,
     "title": ""
    }
   },
   "outputs": [
    {
     "output_type": "stream",
     "name": "stdout",
     "output_type": "stream",
     "text": [
      "[{'1': 6}, {'4': 5}, {'7': 8}]\n"
     ]
    }
   ],
   "source": [
    "from collections import defaultdict\n",
    "aggregated_values = defaultdict(int)\n",
    "\n",
    "for d in lists:\n",
    "    for key, value in d.items():\n",
    "        aggregated_values[key] += value\n",
    "# Convert back into the desired format: a list of dictionaries\n",
    "aggregated_lists = [{k: v} for k, v in aggregated_values.items()]\n",
    "\n",
    "print(aggregated_lists)\n",
    "\n",
    "\n"
   ]
  },
  {
   "cell_type": "code",
   "execution_count": 0,
   "metadata": {
    "application/vnd.databricks.v1+cell": {
     "cellMetadata": {},
     "inputWidgets": {},
     "nuid": "a2ecedb1-5cc1-4ab3-97ca-f4a1a27d658a",
     "showTitle": false,
     "title": ""
    }
   },
   "outputs": [],
   "source": [
    "    # Using map\n",
    "    # Basic: Create a list of all shipment weights rounded to the nearest whole number.\n",
    "    rounded_weights = list(map(lambda x: round(x['weight']), shipments_data))\n",
    "    "
   ]
  },
  {
   "cell_type": "code",
   "execution_count": 0,
   "metadata": {
    "application/vnd.databricks.v1+cell": {
     "cellMetadata": {},
     "inputWidgets": {},
     "nuid": "07713072-d0de-4c24-9c90-a84a5c43d512",
     "showTitle": false,
     "title": ""
    }
   },
   "outputs": [],
   "source": [
    "    # Intermediate: Map each shipment to a tuple containing shipment ID and the length of its route.\n",
    "    shipment_route_lengths = list(map(lambda x: (x['shipment_id'], len(x['origin'] + x['destination'])), shipments_data))\n",
    "    "
   ]
  },
  {
   "cell_type": "code",
   "execution_count": 0,
   "metadata": {
    "application/vnd.databricks.v1+cell": {
     "cellMetadata": {},
     "inputWidgets": {},
     "nuid": "4c2b225b-e07d-47bf-a452-de96a7352822",
     "showTitle": false,
     "title": ""
    }
   },
   "outputs": [],
   "source": [
    "    # Advanced: Transform each shipment record into a dictionary with keys 'ID', 'Route', 'Weight-Category'.\n",
    "    transformed_shipments = list(map(lambda x: {'ID': x['shipment_id'], 'Route': f\"{x['origin']}-{x['destination']}\", 'Weight-Category': 'heavy' if x['weight'] > 15 else 'medium' if x['weight'] > 5 else 'light'}, shipments_data))\n",
    "    "
   ]
  },
  {
   "cell_type": "code",
   "execution_count": 0,
   "metadata": {
    "application/vnd.databricks.v1+cell": {
     "cellMetadata": {},
     "inputWidgets": {},
     "nuid": "6562db22-6515-4755-8be3-1a508ea94945",
     "showTitle": false,
     "title": ""
    }
   },
   "outputs": [],
   "source": [
    "    # Using reduce\n",
    "    # Basic: Calculate the total number of shipments.\n",
    "    total_shipments = reduce(lambda acc, _: acc + 1, shipments_data, 0)\n",
    "    "
   ]
  },
  {
   "cell_type": "code",
   "execution_count": 0,
   "metadata": {
    "application/vnd.databricks.v1+cell": {
     "cellMetadata": {},
     "inputWidgets": {},
     "nuid": "0c8fb477-dd24-44b5-98b0-778d127daf90",
     "showTitle": false,
     "title": ""
    }
   },
   "outputs": [],
   "source": [
    "    # Intermediate: Find the average weight of all shipments.\n",
    "    total_weight = reduce(lambda acc, x: acc + x['weight'], shipments_data, 0)\n",
    "    average_weight = total_weight / len(shipments_data) if shipments_data else 0\n",
    "    "
   ]
  },
  {
   "cell_type": "code",
   "execution_count": 0,
   "metadata": {
    "application/vnd.databricks.v1+cell": {
     "cellMetadata": {},
     "inputWidgets": {},
     "nuid": "3cb5864c-d012-4eff-981e-4a180609182e",
     "showTitle": false,
     "title": ""
    }
   },
   "outputs": [],
   "source": [
    "    # Advanced: Determine the most frequently occurring origin-destination pair.\n",
    "    route_counts = reduce(lambda acc, x: acc.update({(x['origin'], x['destination']): acc.get((x['origin'], x['destination']), 0) + 1}) or acc, shipments_data, {})\n",
    "    most_frequent_route = max(route_counts, key=route_counts.get) if route_counts else None\n",
    "    "
   ]
  }
 ],
 "metadata": {
  "application/vnd.databricks.v1+notebook": {
   "dashboards": [],
   "language": "python",
   "notebookMetadata": {
    "pythonIndentUnit": 4
   },
   "notebookName": "FedEx_Shipment_Analysis",
   "widgets": {}
  }
 },
 "nbformat": 4,
 "nbformat_minor": 0
}
