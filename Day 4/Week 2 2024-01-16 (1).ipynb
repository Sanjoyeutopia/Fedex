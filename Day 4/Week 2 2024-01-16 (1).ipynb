{
 "cells": [
  {
   "cell_type": "code",
   "execution_count": 0,
   "metadata": {
    "application/vnd.databricks.v1+cell": {
     "cellMetadata": {
      "byteLimit": 2048000,
      "rowLimit": 10000
     },
     "inputWidgets": {},
     "nuid": "8769e812-2313-4167-ad46-93626af9d766",
     "showTitle": false,
     "title": ""
    }
   },
   "outputs": [
    {
     "output_type": "stream",
     "name": "stdout",
     "output_type": "stream",
     "text": [
      "Hello World\nthe cost of Coke is 35  and it is in soft Drinks\nthe cost of Apple is 4  and it is in fruits\nthe cost of Banana is 2  and it is in fruits\n"
     ]
    }
   ],
   "source": [
    "print(\"Hello World\")\n",
    "###We want to create  lists of products , prices and categories.\n",
    "###Function 1 , print all the product information.\n",
    "###Function 2 , print the product by name \n",
    "###Function 3, add a new product to the lists\n",
    "productNames=[\"Coke\", \"Apple\", \"Banana\"]\n",
    "prices=[35,4,2]\n",
    "categories=[\"soft Drinks\",\"fruits\",\"fruits\"]\n",
    "###the cost of coke is $35 and it is in soft Drinks category\n",
    "##function2(\"ProductName\")::::: Price, category\n",
    "###function3(\"football\",\"45\",\"Sports\")::: This would add data to the list\n",
    "###calling function 1 again\n",
    "def printAllProducts():\n",
    "    for i in range(len(productNames)):\n",
    "        print(\"the cost of\", productNames[i],\"is\", prices[i],\" and it is in\", categories[i])\n",
    "\n",
    "printAllProducts()\n",
    "\n",
    "def findProductbyName(name):\n",
    "    findIndex=productNames.index(name)\n",
    "    print(prices[findIndex])\n",
    "    print(categories[findIndex])\n",
    "\n",
    "def addProduct(name,price,category):\n",
    "    productNames.append(name)\n",
    "    prices.append(price)\n",
    "    categories.append(category)\n",
    "\n",
    "\n"
   ]
  },
  {
   "cell_type": "code",
   "execution_count": 0,
   "metadata": {
    "application/vnd.databricks.v1+cell": {
     "cellMetadata": {
      "byteLimit": 2048000,
      "rowLimit": 10000
     },
     "inputWidgets": {},
     "nuid": "2b978d5e-5269-4c77-9b84-21aad1b26c84",
     "showTitle": false,
     "title": ""
    }
   },
   "outputs": [
    {
     "output_type": "stream",
     "name": "stdout",
     "output_type": "stream",
     "text": [
      "Coke\nsoftDrinks\n{'name': 'Coke', 'price': 35, 'category': 'Soda'}\n"
     ]
    },
    {
     "output_type": "display_data",
     "data": {
      "text/plain": [
       "\u001B[0;31m---------------------------------------------------------------------------\u001B[0m\n",
       "\u001B[0;31mKeyError\u001B[0m                                  Traceback (most recent call last)\n",
       "File \u001B[0;32m<command-2983051930519077>, line 29\u001B[0m\n",
       "\u001B[1;32m     16\u001B[0m productDictNested\u001B[38;5;241m=\u001B[39m{\u001B[38;5;124m\"\u001B[39m\u001B[38;5;124mname\u001B[39m\u001B[38;5;124m\"\u001B[39m:\u001B[38;5;124m\"\u001B[39m\u001B[38;5;124mCoke\u001B[39m\u001B[38;5;124m\"\u001B[39m,\n",
       "\u001B[1;32m     17\u001B[0m              \u001B[38;5;124m\"\u001B[39m\u001B[38;5;124mprice\u001B[39m\u001B[38;5;124m\"\u001B[39m:\u001B[38;5;241m35\u001B[39m,\n",
       "\u001B[1;32m     18\u001B[0m              \u001B[38;5;124m\"\u001B[39m\u001B[38;5;124mcategory\u001B[39m\u001B[38;5;124m\"\u001B[39m:\u001B[38;5;124m\"\u001B[39m\u001B[38;5;124msoftDrinks\u001B[39m\u001B[38;5;124m\"\u001B[39m,\n",
       "\u001B[0;32m   (...)\u001B[0m\n",
       "\u001B[1;32m     25\u001B[0m                  }\n",
       "\u001B[1;32m     26\u001B[0m              }}\n",
       "\u001B[1;32m     28\u001B[0m \u001B[38;5;66;03m##I want to print the value of line 2 \u001B[39;00m\n",
       "\u001B[0;32m---> 29\u001B[0m productDictNested[\u001B[38;5;124m\"\u001B[39m\u001B[38;5;124mstore\u001B[39m\u001B[38;5;124m\"\u001B[39m][\u001B[38;5;124m\"\u001B[39m\u001B[38;5;124mAddress\u001B[39m\u001B[38;5;124m\"\u001B[39m][\u001B[38;5;124m\"\u001B[39m\u001B[38;5;124mLine2\u001B[39m\u001B[38;5;124m\"\u001B[39m]\n",
       "\u001B[1;32m     30\u001B[0m products\u001B[38;5;241m=\u001B[39m[{\u001B[38;5;124m\"\u001B[39m\u001B[38;5;124mname\u001B[39m\u001B[38;5;124m\"\u001B[39m:\u001B[38;5;124m\"\u001B[39m\u001B[38;5;124mCoke\u001B[39m\u001B[38;5;124m\"\u001B[39m,\n",
       "\u001B[1;32m     31\u001B[0m              \u001B[38;5;124m\"\u001B[39m\u001B[38;5;124mprice\u001B[39m\u001B[38;5;124m\"\u001B[39m:\u001B[38;5;241m35\u001B[39m,\n",
       "\u001B[1;32m     32\u001B[0m              \u001B[38;5;124m\"\u001B[39m\u001B[38;5;124mcategory\u001B[39m\u001B[38;5;124m\"\u001B[39m:\u001B[38;5;124m\"\u001B[39m\u001B[38;5;124msoftDrinks\u001B[39m\u001B[38;5;124m\"\u001B[39m},\n",
       "\u001B[1;32m     33\u001B[0m           {\u001B[38;5;124m\"\u001B[39m\u001B[38;5;124mname\u001B[39m\u001B[38;5;124m\"\u001B[39m:\u001B[38;5;124m\"\u001B[39m\u001B[38;5;124mApple\u001B[39m\u001B[38;5;124m\"\u001B[39m,\n",
       "\u001B[1;32m     34\u001B[0m              \u001B[38;5;124m\"\u001B[39m\u001B[38;5;124mprice\u001B[39m\u001B[38;5;124m\"\u001B[39m:\u001B[38;5;241m5\u001B[39m,\n",
       "\u001B[1;32m     35\u001B[0m              \u001B[38;5;124m\"\u001B[39m\u001B[38;5;124mcategory\u001B[39m\u001B[38;5;124m\"\u001B[39m:\u001B[38;5;124m\"\u001B[39m\u001B[38;5;124mfruits\u001B[39m\u001B[38;5;124m\"\u001B[39m}]\n",
       "\u001B[1;32m     37\u001B[0m products[\u001B[38;5;241m1\u001B[39m][\u001B[38;5;124m\"\u001B[39m\u001B[38;5;124mcategory\u001B[39m\u001B[38;5;124m\"\u001B[39m]\n",
       "\n",
       "\u001B[0;31mKeyError\u001B[0m: 'Line2'"
      ]
     },
     "metadata": {
      "application/vnd.databricks.v1+output": {
       "arguments": {},
       "data": "\u001B[0;31m---------------------------------------------------------------------------\u001B[0m\n\u001B[0;31mKeyError\u001B[0m                                  Traceback (most recent call last)\nFile \u001B[0;32m<command-2983051930519077>, line 29\u001B[0m\n\u001B[1;32m     16\u001B[0m productDictNested\u001B[38;5;241m=\u001B[39m{\u001B[38;5;124m\"\u001B[39m\u001B[38;5;124mname\u001B[39m\u001B[38;5;124m\"\u001B[39m:\u001B[38;5;124m\"\u001B[39m\u001B[38;5;124mCoke\u001B[39m\u001B[38;5;124m\"\u001B[39m,\n\u001B[1;32m     17\u001B[0m              \u001B[38;5;124m\"\u001B[39m\u001B[38;5;124mprice\u001B[39m\u001B[38;5;124m\"\u001B[39m:\u001B[38;5;241m35\u001B[39m,\n\u001B[1;32m     18\u001B[0m              \u001B[38;5;124m\"\u001B[39m\u001B[38;5;124mcategory\u001B[39m\u001B[38;5;124m\"\u001B[39m:\u001B[38;5;124m\"\u001B[39m\u001B[38;5;124msoftDrinks\u001B[39m\u001B[38;5;124m\"\u001B[39m,\n\u001B[0;32m   (...)\u001B[0m\n\u001B[1;32m     25\u001B[0m                  }\n\u001B[1;32m     26\u001B[0m              }}\n\u001B[1;32m     28\u001B[0m \u001B[38;5;66;03m##I want to print the value of line 2 \u001B[39;00m\n\u001B[0;32m---> 29\u001B[0m productDictNested[\u001B[38;5;124m\"\u001B[39m\u001B[38;5;124mstore\u001B[39m\u001B[38;5;124m\"\u001B[39m][\u001B[38;5;124m\"\u001B[39m\u001B[38;5;124mAddress\u001B[39m\u001B[38;5;124m\"\u001B[39m][\u001B[38;5;124m\"\u001B[39m\u001B[38;5;124mLine2\u001B[39m\u001B[38;5;124m\"\u001B[39m]\n\u001B[1;32m     30\u001B[0m products\u001B[38;5;241m=\u001B[39m[{\u001B[38;5;124m\"\u001B[39m\u001B[38;5;124mname\u001B[39m\u001B[38;5;124m\"\u001B[39m:\u001B[38;5;124m\"\u001B[39m\u001B[38;5;124mCoke\u001B[39m\u001B[38;5;124m\"\u001B[39m,\n\u001B[1;32m     31\u001B[0m              \u001B[38;5;124m\"\u001B[39m\u001B[38;5;124mprice\u001B[39m\u001B[38;5;124m\"\u001B[39m:\u001B[38;5;241m35\u001B[39m,\n\u001B[1;32m     32\u001B[0m              \u001B[38;5;124m\"\u001B[39m\u001B[38;5;124mcategory\u001B[39m\u001B[38;5;124m\"\u001B[39m:\u001B[38;5;124m\"\u001B[39m\u001B[38;5;124msoftDrinks\u001B[39m\u001B[38;5;124m\"\u001B[39m},\n\u001B[1;32m     33\u001B[0m           {\u001B[38;5;124m\"\u001B[39m\u001B[38;5;124mname\u001B[39m\u001B[38;5;124m\"\u001B[39m:\u001B[38;5;124m\"\u001B[39m\u001B[38;5;124mApple\u001B[39m\u001B[38;5;124m\"\u001B[39m,\n\u001B[1;32m     34\u001B[0m              \u001B[38;5;124m\"\u001B[39m\u001B[38;5;124mprice\u001B[39m\u001B[38;5;124m\"\u001B[39m:\u001B[38;5;241m5\u001B[39m,\n\u001B[1;32m     35\u001B[0m              \u001B[38;5;124m\"\u001B[39m\u001B[38;5;124mcategory\u001B[39m\u001B[38;5;124m\"\u001B[39m:\u001B[38;5;124m\"\u001B[39m\u001B[38;5;124mfruits\u001B[39m\u001B[38;5;124m\"\u001B[39m}]\n\u001B[1;32m     37\u001B[0m products[\u001B[38;5;241m1\u001B[39m][\u001B[38;5;124m\"\u001B[39m\u001B[38;5;124mcategory\u001B[39m\u001B[38;5;124m\"\u001B[39m]\n\n\u001B[0;31mKeyError\u001B[0m: 'Line2'",
       "errorSummary": "<span class='ansi-red-fg'>KeyError</span>: 'Line2'",
       "errorTraceType": "ansi",
       "metadata": {},
       "type": "ipynbError"
      }
     },
     "output_type": "display_data"
    }
   ],
   "source": [
    "productNames=[\"Coke\", \"Apple\", \"Banana\",\"M&M\"]\n",
    "prices=[35,4,2,30]\n",
    "categories=[\"soft Drinks\",\"fruits\",\"fruits\"]\n",
    "###every list is having same number of elements\n",
    "###indexing is properly done\n",
    "###datastructures: \n",
    "###value , key\n",
    "productDict={\"name\":\"Coke\",\n",
    "             \"price\":35,\n",
    "             \"category\":\"softDrinks\"}\n",
    "print(productDict[\"name\"])\n",
    "print(productDict[\"category\"])\n",
    "productDict[\"category\"]=\"Soda\"\n",
    "print(productDict)\n",
    "###nested dictionary\n",
    "productDictNested={\"name\":\"Coke\",\n",
    "             \"price\":35,\n",
    "             \"category\":\"softDrinks\",\n",
    "             \"store\":{\n",
    "                 \"name\":\"Nashville\",\n",
    "                 \"Address\":{\n",
    "                     \"Line1\":\"Downtown\",\n",
    "                     \"line2\":\"Line 2\",\n",
    "                     \"pin\":\"1234567\"\n",
    "                 }\n",
    "             }}\n",
    "\n",
    "##I want to print the value of line 2 \n",
    "productDictNested[\"store\"][\"Address\"][\"Line2\"]\n",
    "products=[{\"name\":\"Coke\",\n",
    "             \"price\":35,\n",
    "             \"category\":\"softDrinks\"},\n",
    "          {\"name\":\"Apple\",\n",
    "             \"price\":5,\n",
    "             \"category\":\"fruits\"}]\n",
    "\n",
    "products[1][\"category\"]\n",
    "def findProductbyName(name):\n",
    "    for index in len(products):\n",
    "        if(name==products[index][\"name\"]):\n",
    "            print(products[index][\"price\"],products[index][\"category\"])\n",
    "\n",
    "def addProduct(name,price,category):\n",
    "    product={}\n",
    "    product[\"name\"]=name\n",
    "    product[\"price\"]=price\n",
    "    product[\"category\"]=category\n",
    "    products.append(product)\n",
    "\n",
    "\n",
    "\n",
    "\n",
    "\n",
    "\n",
    "\n",
    "\n",
    "\n",
    "\n",
    "\n",
    "    \n",
    "\n",
    "\n"
   ]
  },
  {
   "cell_type": "code",
   "execution_count": 0,
   "metadata": {
    "application/vnd.databricks.v1+cell": {
     "cellMetadata": {
      "byteLimit": 2048000,
      "rowLimit": 10000
     },
     "inputWidgets": {},
     "nuid": "c69369bf-a623-43a1-ba05-efa9e6c22738",
     "showTitle": false,
     "title": ""
    }
   },
   "outputs": [
    {
     "output_type": "stream",
     "name": "stdout",
     "output_type": "stream",
     "text": [
      "('name', 'Apple')\n('price', 5)\n('category', 'fruits')\n"
     ]
    },
    {
     "output_type": "display_data",
     "data": {
      "text/plain": [
       "\u001B[0;31m---------------------------------------------------------------------------\u001B[0m\n",
       "\u001B[0;31mAttributeError\u001B[0m                            Traceback (most recent call last)\n",
       "File \u001B[0;32m<command-2983051930519078>, line 23\u001B[0m\n",
       "\u001B[1;32m     21\u001B[0m marksList\u001B[38;5;241m.\u001B[39msort()\n",
       "\u001B[1;32m     22\u001B[0m marksList\u001B[38;5;241m.\u001B[39msort(reverse\u001B[38;5;241m=\u001B[39m\u001B[38;5;28;01mTrue\u001B[39;00m)\n",
       "\u001B[0;32m---> 23\u001B[0m marksList\u001B[38;5;241m.\u001B[39mreversed()\n",
       "\u001B[1;32m     24\u001B[0m \u001B[38;5;66;03m###mutable and immmutable \u001B[39;00m\n",
       "\u001B[1;32m     25\u001B[0m \u001B[38;5;66;03m##\u001B[39;00m\n",
       "\n",
       "\u001B[0;31mAttributeError\u001B[0m: 'list' object has no attribute 'reversed'"
      ]
     },
     "metadata": {
      "application/vnd.databricks.v1+output": {
       "arguments": {},
       "data": "\u001B[0;31m---------------------------------------------------------------------------\u001B[0m\n\u001B[0;31mAttributeError\u001B[0m                            Traceback (most recent call last)\nFile \u001B[0;32m<command-2983051930519078>, line 23\u001B[0m\n\u001B[1;32m     21\u001B[0m marksList\u001B[38;5;241m.\u001B[39msort()\n\u001B[1;32m     22\u001B[0m marksList\u001B[38;5;241m.\u001B[39msort(reverse\u001B[38;5;241m=\u001B[39m\u001B[38;5;28;01mTrue\u001B[39;00m)\n\u001B[0;32m---> 23\u001B[0m marksList\u001B[38;5;241m.\u001B[39mreversed()\n\u001B[1;32m     24\u001B[0m \u001B[38;5;66;03m###mutable and immmutable \u001B[39;00m\n\u001B[1;32m     25\u001B[0m \u001B[38;5;66;03m##\u001B[39;00m\n\n\u001B[0;31mAttributeError\u001B[0m: 'list' object has no attribute 'reversed'",
       "errorSummary": "<span class='ansi-red-fg'>AttributeError</span>: 'list' object has no attribute 'reversed'",
       "errorTraceType": "ansi",
       "metadata": {},
       "type": "ipynbError"
      }
     },
     "output_type": "display_data"
    }
   ],
   "source": [
    "products=[{\"name\":\"Coke\",\n",
    "             \"price\":35,\n",
    "             \"category\":\"softDrinks\"},\n",
    "          {\"name\":\"Apple\",\n",
    "             \"price\":5,\n",
    "             \"category\":\"fruits\"}]\n",
    "product={\"name\":\"Apple\",\n",
    "             \"price\":5,\n",
    "             \"category\":\"fruits\"}\n",
    "#print(product.keys())\n",
    "#print(product.values())\n",
    "\n",
    "####list of dictionary\n",
    "####JSON: \n",
    "#print(product.items())\n",
    "###in : \n",
    "for item in product.items():\n",
    "    print(item)\n",
    "\n",
    "marksList=[23,45,67,89]\n",
    "marksList.sort()\n",
    "marksList.sort(reverse=True)\n",
    "marksList.reversed()\n",
    "###mutable and immmutable \n",
    "##\n",
    "\n",
    "\n",
    "\n",
    "\n",
    "\n",
    "\n"
   ]
  },
  {
   "cell_type": "code",
   "execution_count": 0,
   "metadata": {
    "application/vnd.databricks.v1+cell": {
     "cellMetadata": {},
     "inputWidgets": {},
     "nuid": "d7099e4f-dbbd-4c0a-9c0e-ccb38d5934a8",
     "showTitle": false,
     "title": ""
    }
   },
   "outputs": [],
   "source": [
    "#Create a Python script to track package statuses. Each package is identified by a unique #tracking number and has a status such as \"In Transit\", \"Delivered\", or \"Delayed\".\n",
    "# Creating a dictionary to track packages\n",
    "package_status = {\n",
    "    \"PK123\": \"In Transit\",\n",
    "    \"PK124\": \"Delivered\",\n",
    "    \"PK125\": \"Delayed\",\n",
    "    \"PK126\": \"In Transit\"\n",
    "}\n",
    "###find a specific packages status\n",
    "###Modify a status of the package\n",
    "###adding a new package\n",
    "###and delet\n",
    "# Creating a list of dictionaries to track packages\n",
    "package_statuses = [\n",
    "    {\"tracking_number\": \"PK123\", \"status\": \"In Transit\", \"name\": \"Package A\"},\n",
    "    {\"tracking_number\": \"PK124\", \"status\": \"Delivered\", \"name\": \"Package B\"},\n",
    "    {\"tracking_number\": \"PK125\", \"status\": \"Delayed\", \"name\": \"Package C\"},\n",
    "    {\"tracking_number\": \"PK126\", \"status\": \"In Transit\", \"name\": \"Package D\"}\n",
    "]\n",
    "\n",
    "###\n",
    "\n",
    "\n",
    "\n",
    "\n",
    "\n",
    "\n"
   ]
  },
  {
   "cell_type": "code",
   "execution_count": 0,
   "metadata": {
    "application/vnd.databricks.v1+cell": {
     "cellMetadata": {
      "byteLimit": 2048000,
      "rowLimit": 10000
     },
     "inputWidgets": {},
     "nuid": "65f2e80e-400a-4d43-806a-84bad5ff41b9",
     "showTitle": false,
     "title": ""
    }
   },
   "outputs": [
    {
     "output_type": "stream",
     "name": "stdout",
     "output_type": "stream",
     "text": [
      "{'tracking_number': 'PK123', 'status': 'In Transit', 'name': 'Package A'}\n[{'tracking_number': 'PK123', 'status': 'In Transit', 'name': 'Package A'}, {'tracking_number': 'PK124', 'status': 'Delivered', 'name': 'Package B'}, {'tracking_number': 'PK125', 'status': 'Delayed', 'name': 'Package C'}, {'tracking_number': 'PK126', 'status': 'In Transit', 'name': 'Package D'}, {'tracking_number': 'PK129', 'status': 'Delivered', 'name': 'Fedex A'}]\n"
     ]
    }
   ],
   "source": [
    "package_statuses = [\n",
    "    {\"tracking_number\": \"PK123\", \"status\": \"In Transit\", \"name\": \"Package A\"},\n",
    "    {\"tracking_number\": \"PK124\", \"status\": \"Delivered\", \"name\": \"Package B\"},\n",
    "    {\"tracking_number\": \"PK125\", \"status\": \"Delayed\", \"name\": \"Package C\"},\n",
    "    {\"tracking_number\": \"PK126\", \"status\": \"In Transit\", \"name\": \"Package D\"}\n",
    "]\n",
    "\n",
    "def findPackageStaus(packageName):\n",
    "    packageDetails={}\n",
    "    for package in package_statuses:\n",
    "        if (package[\"name\"]==packageName):\n",
    "            packageDetails=package\n",
    "            break\n",
    "    return packageDetails\n",
    "\n",
    "packageDetails=findPackageStaus(\"Package A\")\n",
    "print(packageDetails)\n",
    "\n",
    "def addPackageDetails(TrackingNumber,status,name):\n",
    "    packageDetails={}\n",
    "    packageDetails[\"tracking_number\"]=TrackingNumber\n",
    "    packageDetails[\"status\"]=status\n",
    "    packageDetails[\"name\"]=name\n",
    "    package_statuses.append(packageDetails)\n",
    "    print(package_statuses)\n",
    "    new_package = {\"tracking_number\": TrackingNumber, \"status\": status, \"name\":name}\n",
    "    package_statuses.append(new_package)\n",
    "addPackageDetails(\"PK129\",\"Delivered\",\"Fedex A\")\n",
    "#dictionary.values \n",
    "\n",
    "\n",
    "\n",
    "\n",
    "\n",
    "\n"
   ]
  },
  {
   "cell_type": "code",
   "execution_count": 0,
   "metadata": {
    "application/vnd.databricks.v1+cell": {
     "cellMetadata": {
      "byteLimit": 2048000,
      "rowLimit": 10000
     },
     "inputWidgets": {},
     "nuid": "76cacb54-1128-4506-94f3-4dbdb98caeac",
     "showTitle": false,
     "title": ""
    }
   },
   "outputs": [
    {
     "output_type": "stream",
     "name": "stdout",
     "output_type": "stream",
     "text": [
      "1\n40.7128\n1\n2\n6\n4\n5\n[1, 2, 4, 5, 6]\n"
     ]
    }
   ],
   "source": [
    "#immutable\n",
    "testTuple=(1,2,6,4,5)\n",
    "print(testTuple[0])\n",
    "#testTuple[3]=6\n",
    "\n",
    "package_locations = {\n",
    "    \"PK123\": (35.6895, 139.6917),  # Tokyo\n",
    "    \"PK124\": (51.5074, -0.1278),    # London\n",
    "    \"PK125\": (40.7128, -74.0060)    # New Yorkrte\n",
    "}\n",
    "###lattitude of PK125 : \n",
    "\n",
    "print(package_locations[\"PK125\"][0])\n",
    "for test in testTuple:\n",
    "    print(test)\n",
    "print(sorted(testTuple))\n",
    "####Immutable elements\n"
   ]
  },
  {
   "cell_type": "code",
   "execution_count": 0,
   "metadata": {
    "application/vnd.databricks.v1+cell": {
     "cellMetadata": {
      "byteLimit": 2048000,
      "rowLimit": 10000
     },
     "inputWidgets": {},
     "nuid": "656ea274-159d-49ab-8a27-5fbf5ad29115",
     "showTitle": false,
     "title": ""
    }
   },
   "outputs": [
    {
     "output_type": "stream",
     "name": "stdout",
     "output_type": "stream",
     "text": [
      "Common destinations: {'Houston', 'Chicago'}\nUnique destinations for Truck 1: {'Los Angeles', 'New York'}\nUnique destinations for Truck 2: {'Phoenix', 'Philadelphia'}\n{'Houston', 'Chicago', 'New York', 'Los Angeles'}\n"
     ]
    }
   ],
   "source": [
    "\n",
    "#list, Dictionary, Tuples, Set\n",
    "#\n",
    "# Destinations for two trucks\n",
    "truck1_destinations = {\"New York\", \"Los Angeles\", \"Chicago\", \"Houston\"}\n",
    "truck2_destinations = {\"Chicago\", \"Phoenix\", \"Philadelphia\", \"Houston\"}\n",
    "# Common destinations\n",
    "common_destinations = truck1_destinations.intersection(truck2_destinations)\n",
    "print(\"Common destinations:\", common_destinations)\n",
    "\n",
    "\n",
    "# Unique destinations for Truck 1\n",
    "unique_truck1 = truck1_destinations.difference(truck2_destinations)\n",
    "print(\"Unique destinations for Truck 1:\", unique_truck1)\n",
    "\n",
    "# Unique destinations for Truck 2\n",
    "unique_truck2 = truck2_destinations.difference(truck1_destinations)\n",
    "print(\"Unique destinations for Truck 2:\", unique_truck2)\n",
    "\n",
    "##add\n",
    "truck1_destinations.add(\"Chicago\")\n",
    "print(truck1_destinations)"
   ]
  },
  {
   "cell_type": "code",
   "execution_count": 0,
   "metadata": {
    "application/vnd.databricks.v1+cell": {
     "cellMetadata": {
      "byteLimit": 2048000,
      "rowLimit": 10000
     },
     "inputWidgets": {},
     "nuid": "8504d7fc-85ce-48c4-9e63-5cacf225c33a",
     "showTitle": false,
     "title": ""
    }
   },
   "outputs": [
    {
     "output_type": "stream",
     "name": "stdout",
     "output_type": "stream",
     "text": [
      "9\n9\n"
     ]
    }
   ],
   "source": [
    "def addition(value1,value2):\n",
    "    return (value1+value2)\n",
    "result=addition(4,5)\n",
    "print(result)\n",
    "\n",
    "###lambda\n",
    "### lambda parameters: definition of the function\n",
    "add=lambda x,y: x+y\n",
    "print(add(5,4))\n"
   ]
  },
  {
   "cell_type": "code",
   "execution_count": 0,
   "metadata": {
    "application/vnd.databricks.v1+cell": {
     "cellMetadata": {
      "byteLimit": 2048000,
      "rowLimit": 10000
     },
     "inputWidgets": {},
     "nuid": "4b240d2c-87d8-4144-8708-c900f1e1c087",
     "showTitle": false,
     "title": ""
    }
   },
   "outputs": [
    {
     "output_type": "stream",
     "name": "stdout",
     "output_type": "stream",
     "text": [
      "C\n"
     ]
    }
   ],
   "source": [
    "#grade = lambda score: \"A\" if score >= 90 else \\\n",
    "                     \"B\" if score >= 80 else \\\n",
    "                     \"C\" if score >= 70 else \\\n",
    "                     \"D\" if score >= 60 else \"F\"\n",
    "print(grade(70))\n",
    "\n",
    "#Suppose you have a pricing policy where customers get a discount on bulk purchases: 10% #off for quantities over 50, and 20% off for quantities over 100.\n",
    "\n"
   ]
  },
  {
   "cell_type": "code",
   "execution_count": 0,
   "metadata": {
    "application/vnd.databricks.v1+cell": {
     "cellMetadata": {
      "byteLimit": 2048000,
      "rowLimit": 10000
     },
     "inputWidgets": {},
     "nuid": "068f7f29-54f8-4185-a308-5a4033834d0d",
     "showTitle": false,
     "title": ""
    }
   },
   "outputs": [
    {
     "output_type": "stream",
     "name": "stdout",
     "output_type": "stream",
     "text": [
      "10%\n"
     ]
    }
   ],
   "source": [
    "discount = lambda quantity: \"10%\" if quantity > 50 else \\\n",
    "                            \"20%\" if quantity > 100 else \"No discount\"\n",
    "print (discount(75))"
   ]
  },
  {
   "cell_type": "code",
   "execution_count": 0,
   "metadata": {
    "application/vnd.databricks.v1+cell": {
     "cellMetadata": {},
     "inputWidgets": {},
     "nuid": "efa95695-629a-4f47-a26e-6dda2217cebf",
     "showTitle": false,
     "title": ""
    }
   },
   "outputs": [],
   "source": [
    "#A leap year is typically a year that is divisible by 4 but not by 100, unless it is also #divisible by 400. This means years like 2000 and 2020 are leap years, but 1900 and 2021 #are not.\n",
    "is_leap_year = lambda year: (year % 4 == 0 and year % 100 != 0) or (year % 400 == 0)\n",
    "\n",
    "# Usage examples\n",
    "print(is_leap_year(2000))  # Output: True (2000 is a leap year)\n",
    "print(is_leap_year(2021))  # Output: False (2021 is not a leap year)\n",
    "print(is_leap_year(2020))  # Output: True (2020 is a leap year)\n",
    "print(is_leap_year(1900))  # Output: False (1900 is not a leap year)\n",
    "\n"
   ]
  },
  {
   "cell_type": "code",
   "execution_count": 0,
   "metadata": {
    "application/vnd.databricks.v1+cell": {
     "cellMetadata": {
      "byteLimit": 2048000,
      "rowLimit": 10000
     },
     "inputWidgets": {},
     "nuid": "52544147-af37-4961-b46a-a565552f789f",
     "showTitle": false,
     "title": ""
    }
   },
   "outputs": [
    {
     "output_type": "stream",
     "name": "stdout",
     "output_type": "stream",
     "text": [
      "2\n4\n6\n8\n10\n"
     ]
    }
   ],
   "source": [
    "number=[1,2,3,4,5]\n",
    "###map function takes the two argumante, lambda function and the other one is the list\n",
    "\n",
    "double=(map(lambda x:x*2,number))\n",
    "\n",
    "\n",
    "for number in double:\n",
    "    print(number)\n"
   ]
  },
  {
   "cell_type": "code",
   "execution_count": 0,
   "metadata": {
    "application/vnd.databricks.v1+cell": {
     "cellMetadata": {
      "byteLimit": 2048000,
      "rowLimit": 10000
     },
     "inputWidgets": {},
     "nuid": "e8cf1e71-e49b-4053-a147-add2e04471be",
     "showTitle": false,
     "title": ""
    }
   },
   "outputs": [
    {
     "output_type": "display_data",
     "data": {
      "text/plain": [
       "\u001B[0;31m---------------------------------------------------------------------------\u001B[0m\n",
       "\u001B[0;31mNameError\u001B[0m                                 Traceback (most recent call last)\n",
       "File \u001B[0;32m<command-2198334981310762>, line 2\u001B[0m\n",
       "\u001B[1;32m      1\u001B[0m \u001B[38;5;66;03m##filter\u001B[39;00m\n",
       "\u001B[0;32m----> 2\u001B[0m \u001B[38;5;28;01mdel\u001B[39;00m \u001B[38;5;28mlist\u001B[39m\n",
       "\u001B[1;32m      3\u001B[0m numbers\u001B[38;5;241m=\u001B[39m[\u001B[38;5;241m1\u001B[39m,\u001B[38;5;241m2\u001B[39m,\u001B[38;5;241m3\u001B[39m,\u001B[38;5;241m4\u001B[39m,\u001B[38;5;241m5\u001B[39m]\n",
       "\u001B[1;32m      4\u001B[0m \u001B[38;5;66;03m###filter(lambda x, if statement, name of the list)\u001B[39;00m\n",
       "\n",
       "\u001B[0;31mNameError\u001B[0m: name 'list' is not defined"
      ]
     },
     "metadata": {
      "application/vnd.databricks.v1+output": {
       "arguments": {},
       "data": "\u001B[0;31m---------------------------------------------------------------------------\u001B[0m\n\u001B[0;31mNameError\u001B[0m                                 Traceback (most recent call last)\nFile \u001B[0;32m<command-2198334981310762>, line 2\u001B[0m\n\u001B[1;32m      1\u001B[0m \u001B[38;5;66;03m##filter\u001B[39;00m\n\u001B[0;32m----> 2\u001B[0m \u001B[38;5;28;01mdel\u001B[39;00m \u001B[38;5;28mlist\u001B[39m\n\u001B[1;32m      3\u001B[0m numbers\u001B[38;5;241m=\u001B[39m[\u001B[38;5;241m1\u001B[39m,\u001B[38;5;241m2\u001B[39m,\u001B[38;5;241m3\u001B[39m,\u001B[38;5;241m4\u001B[39m,\u001B[38;5;241m5\u001B[39m]\n\u001B[1;32m      4\u001B[0m \u001B[38;5;66;03m###filter(lambda x, if statement, name of the list)\u001B[39;00m\n\n\u001B[0;31mNameError\u001B[0m: name 'list' is not defined",
       "errorSummary": "<span class='ansi-red-fg'>NameError</span>: name 'list' is not defined",
       "errorTraceType": "ansi",
       "metadata": {},
       "type": "ipynbError"
      }
     },
     "output_type": "display_data"
    }
   ],
   "source": [
    "##filter\n",
    "del list\n",
    "numbers=[1,2,3,4,5]\n",
    "###filter(lambda x, if statement, name of the list)\n",
    "evenNumber=filter(lambda x:x%2==0, numbers)\n",
    "for index in evenNumber:\n",
    "    print(index)\n",
    "\n",
    "matrix = [[1, 2, 3], [4, 5, 6], [7, 8, 9]]\n",
    "threshold = 5\n",
    "#map function to traverse through all the elelment of the top list \n",
    "# filter function to filter out the data \n",
    "\n",
    "\n",
    "# Filtering each sublist\n",
    "filtered_matrix = [list(filter(lambda x: x <= threshold, sublist)) for sublist in matrix]\n",
    "print(list(filtered_matrix))\n",
    "\n",
    "#print(filtered_matrix)\n",
    "\n",
    "\n",
    "\n"
   ]
  }
 ],
 "metadata": {
  "application/vnd.databricks.v1+notebook": {
   "dashboards": [],
   "language": "python",
   "notebookMetadata": {
    "pythonIndentUnit": 4
   },
   "notebookName": "Week 2 2024-01-16",
   "widgets": {}
  }
 },
 "nbformat": 4,
 "nbformat_minor": 0
}
