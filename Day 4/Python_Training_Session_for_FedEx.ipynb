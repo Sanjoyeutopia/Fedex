{
 "cells": [
  {
   "cell_type": "markdown",
   "id": "68a4a5e5",
   "metadata": {},
   "source": [
    "\n",
    "### Dictionary Refreshers\n",
    "\n",
    "**Problem Statement:**\n",
    "\n",
    "Create a Python script to track package statuses. Each package is identified by a unique tracking number and has a status such as \"In Transit\", \"Delivered\", or \"Delayed\".\n"
   ]
  },
  {
   "cell_type": "code",
   "execution_count": null,
   "id": "2d0f7a45",
   "metadata": {},
   "outputs": [],
   "source": [
    "\n",
    "# Creating a dictionary to track packages\n",
    "package_status = {\n",
    "    \"PK123\": \"In Transit\",\n",
    "    \"PK124\": \"Delivered\",\n",
    "    \"PK125\": \"Delayed\",\n",
    "    \"PK126\": \"In Transit\"\n",
    "}\n",
    "\n",
    "# Accessing a package's status\n",
    "print(\"Status of PK123:\", package_status[\"PK123\"])\n",
    "\n",
    "# Updating the status of a package\n",
    "package_status[\"PK125\"] = \"Delivered\"\n",
    "print(\"Updated status of PK125:\", package_status[\"PK125\"])\n",
    "\n",
    "# Adding a new package\n",
    "package_status[\"PK127\"] = \"In Transit\"\n",
    "print(\"Added PK127 with status:\", package_status[\"PK127\"])\n",
    "\n",
    "# Removing a package\n",
    "del package_status[\"PK124\"]\n",
    "print(\"PK124 removed. Current package statuses:\", package_status)\n"
   ]
  },
  {
   "cell_type": "markdown",
   "id": "27b1ac26",
   "metadata": {},
   "source": [
    "\n",
    "### Tuples\n",
    "\n",
    "**Problem Statement:**\n",
    "\n",
    "Implement a system where each package's location is represented as a tuple of coordinates (latitude, longitude). Display the current location of a few packages.\n"
   ]
  },
  {
   "cell_type": "code",
   "execution_count": null,
   "id": "cae0aec9",
   "metadata": {},
   "outputs": [],
   "source": [
    "\n",
    "# Defining package locations\n",
    "package_locations = {\n",
    "    \"PK123\": (35.6895, 139.6917),  # Tokyo\n",
    "    \"PK124\": (51.5074, -0.1278),    # London\n",
    "    \"PK125\": (40.7128, -74.0060)    # New York\n",
    "}\n",
    "\n",
    "# Accessing the location of a specific package\n",
    "print(\"Location of PK123:\", package_locations[\"PK123\"])\n",
    "print(\"Location of PK125:\", package_locations[\"PK125\"])\n"
   ]
  },
  {
   "cell_type": "markdown",
   "id": "ba2ef91e",
   "metadata": {},
   "source": [
    "\n",
    "### Sets\n",
    "\n",
    "**Problem Statement:**\n",
    "\n",
    "Create a system to store and compare the destinations of two delivery trucks. Identify common and unique destinations using set operations.\n"
   ]
  },
  {
   "cell_type": "code",
   "execution_count": null,
   "id": "ee79e857",
   "metadata": {},
   "outputs": [],
   "source": [
    "\n",
    "# Destinations for two trucks\n",
    "truck1_destinations = {\"New York\", \"Los Angeles\", \"Chicago\", \"Houston\"}\n",
    "truck2_destinations = {\"Chicago\", \"Phoenix\", \"Philadelphia\", \"Houston\"}\n",
    "\n",
    "# Common destinations\n",
    "common_destinations = truck1_destinations.intersection(truck2_destinations)\n",
    "print(\"Common destinations:\", common_destinations)\n",
    "\n",
    "# Unique destinations for Truck 1\n",
    "unique_truck1 = truck1_destinations.difference(truck2_destinations)\n",
    "print(\"Unique destinations for Truck 1:\", unique_truck1)\n",
    "\n",
    "# Unique destinations for Truck 2\n",
    "unique_truck2 = truck2_destinations.difference(truck1_destinations)\n",
    "print(\"Unique destinations for Truck 2:\", unique_truck2)\n"
   ]
  },
  {
   "cell_type": "markdown",
   "id": "aeb3d1d6",
   "metadata": {},
   "source": [
    "\n",
    "### Lambda Functions\n",
    "\n",
    "**Problem Statement:**\n",
    "\n",
    "Given a list of package weights, use a lambda function to filter out packages that exceed a certain weight limit for a delivery route.\n"
   ]
  },
  {
   "cell_type": "code",
   "execution_count": null,
   "id": "be4687c5",
   "metadata": {},
   "outputs": [],
   "source": [
    "\n",
    "package_weights = [1.2, 3.5, 2.4, 4.8, 0.9, 3.3]\n",
    "weight_limit = 3.0\n",
    "\n",
    "# Filter packages that exceed the weight limit\n",
    "filtered_packages = list(filter(lambda x: x <= weight_limit, package_weights))\n",
    "print(\"Packages within weight limit:\", filtered_packages)\n"
   ]
  }
 ],
 "metadata": {},
 "nbformat": 4,
 "nbformat_minor": 5
}
