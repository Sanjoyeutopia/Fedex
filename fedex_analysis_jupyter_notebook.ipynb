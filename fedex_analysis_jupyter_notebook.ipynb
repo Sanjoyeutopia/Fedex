{
 "cells": [
  {
   "cell_type": "code",
   "execution_count": null,
   "id": "cf0912d0",
   "metadata": {},
   "outputs": [],
   "source": [
    "\n",
    "import pandas as pd\n"
   ]
  },
  {
   "cell_type": "code",
   "execution_count": null,
   "id": "328bde88",
   "metadata": {},
   "outputs": [],
   "source": [
    "\n",
    "# Load the dataset (make sure to update the path to where your CSV file is located)\n",
    "df = pd.read_csv('/path/to/your/csv/fedex_employee_data.csv')\n"
   ]
  },
  {
   "cell_type": "code",
   "execution_count": null,
   "id": "f3c1cf5a",
   "metadata": {},
   "outputs": [],
   "source": [
    "\n",
    "# Function to filter employees by department\n",
    "def filter_employees_by_department(department):\n",
    "    return df[df['Department'] == department]\n"
   ]
  },
  {
   "cell_type": "code",
   "execution_count": null,
   "id": "b76dc489",
   "metadata": {},
   "outputs": [],
   "source": [
    "\n",
    "# Function to calculate average years of service\n",
    "def average_years_of_service(department=None):\n",
    "    if department:\n",
    "        return df[df['Department'] == department]['Years of Service'].mean()\n",
    "    else:\n",
    "        return df['Years of Service'].mean()\n"
   ]
  },
  {
   "cell_type": "code",
   "execution_count": null,
   "id": "4dea0bd7",
   "metadata": {},
   "outputs": [],
   "source": [
    "\n",
    "# Example usage\n",
    "\n",
    "# Filter employees in the 'Logistics' department\n",
    "logistics_employees = filter_employees_by_department('Logistics')\n",
    "logistics_employees.head()  # Displaying the first few records\n"
   ]
  },
  {
   "cell_type": "code",
   "execution_count": null,
   "id": "6206e509",
   "metadata": {},
   "outputs": [],
   "source": [
    "\n",
    "# Calculate average years of service for all employees\n",
    "avg_years_all = average_years_of_service()\n",
    "print(f\"Average Years of Service (All Departments): {avg_years_all:.2f}\")\n",
    "\n",
    "# Calculate average years of service for 'Logistics' department\n",
    "avg_years_logistics = average_years_of_service('Logistics')\n",
    "print(f\"Average Years of Service (Logistics): {avg_years_logistics:.2f}\")\n"
   ]
  }
 ],
 "metadata": {},
 "nbformat": 4,
 "nbformat_minor": 5
}
