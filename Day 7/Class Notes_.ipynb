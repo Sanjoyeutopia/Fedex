{
 "cells": [
  {
   "cell_type": "code",
   "execution_count": 0,
   "metadata": {
    "application/vnd.databricks.v1+cell": {
     "cellMetadata": {
      "byteLimit": 2048000,
      "rowLimit": 10000
     },
     "inputWidgets": {},
     "nuid": "fb886372-b0e3-4029-975c-cecb417ec3eb",
     "showTitle": false,
     "title": ""
    }
   },
   "outputs": [
    {
     "output_type": "stream",
     "name": "stdout",
     "output_type": "stream",
     "text": [
      "good\nbad\n"
     ]
    }
   ],
   "source": [
    "###procedural languages\n",
    "### modularize/ Reuse certain code bases\n",
    "###function based programming appraoch\n",
    "###cobol, python, C \n",
    "###function (arguments, return output)\n",
    "###we added some arguments to some of the functions\n",
    "###function A===> functions B====>function C====> function D\n",
    "####sphegetti code\n",
    "####Functions which will have less arguments: \n",
    "####0 argumants\n",
    "###Function and the data together\n",
    "####real life world: function and the data \n",
    "###age, name , address, carname, \n",
    "####hobby, work,\n",
    "####object oriented programming language : data and the function can stay together in one single entity\n",
    "##data: prperties\n",
    "###functions: Methods\n",
    "###object : Car :  properties: brand, color, noofDoors, topspeed\n",
    "####               functions: driving Quality, long distance driving, \n",
    "\n",
    "###object\n",
    "###blueprint: \n",
    "def drivingQuality(topspeed):\n",
    "    ###logic on topspeed\n",
    "    print(\"Good\")\n",
    "def car(brand, color, topspeed):\n",
    "    drivingQuality(topspeed)\n",
    "\n",
    "\n",
    "####blueprint:\n",
    "###class : Car: brand,color,  topspeed\n",
    "###class can be instanciated from the values that were provided\n",
    "###data and the function are bound....so the function can have 0 arguments\n",
    "\n",
    "class Car:\n",
    "    def __init__(self,color,brand):\n",
    "        self.color=color\n",
    "        self.brand=brand\n",
    "    def drivingQuality(self):\n",
    "        if (self.color==\"black\" and self.brand==\"ford\"):\n",
    "            print(\"good\")\n",
    "        else:\n",
    "            print(\"bad\")\n",
    "    def longdistance(self):\n",
    "        if(self.brand ==\"Jeep\"):\n",
    "            print(\"good\")\n",
    "        else:\n",
    "            print(\"bad\")\n",
    "\n",
    "car1=Car(\"black\",\"ford\") ####black as the color, brand as the ford\n",
    "\n",
    "car1.drivingQuality()\n",
    "###hiding the complexity of the function \n",
    "##abstraction\n",
    "####constructors\n",
    "\n",
    "car2=Car(\"Blue\",\"Jeep\")\n",
    "\n",
    "\n",
    "\n",
    "######\n",
    "car2.drivingQuality()\n",
    "car2.longdistance()\n",
    "###abstraction\n",
    "\n",
    "\n",
    "####students \n",
    "###age, feedbackratings float value, name\n",
    "##what is the feedback rating : good(4,5), medium(3) , bad(1,2)\n",
    "###raju has given good feedback\n",
    "\n",
    "\n"
   ]
  },
  {
   "cell_type": "code",
   "execution_count": 0,
   "metadata": {
    "application/vnd.databricks.v1+cell": {
     "cellMetadata": {
      "byteLimit": 2048000,
      "rowLimit": 10000
     },
     "inputWidgets": {},
     "nuid": "1db0bf81-857a-49d9-b8bc-ef74c1e2fd3c",
     "showTitle": false,
     "title": ""
    }
   },
   "outputs": [
    {
     "output_type": "stream",
     "name": "stdout",
     "output_type": "stream",
     "text": [
      "good\n"
     ]
    }
   ],
   "source": [
    "def drivingqualityprocedure(color,brand):\n",
    "        if (color==\"black\"and brand==\"ford\"):\n",
    "            print(\"good\")\n",
    "        else:\n",
    "            print(\"bad\")\n",
    "drivingqualityprocedure(\"black\",\"ford\")"
   ]
  },
  {
   "cell_type": "code",
   "execution_count": 0,
   "metadata": {
    "application/vnd.databricks.v1+cell": {
     "cellMetadata": {
      "byteLimit": 2048000,
      "rowLimit": 10000
     },
     "inputWidgets": {},
     "nuid": "95debd4a-351a-4d35-a478-4f487322ae8c",
     "showTitle": false,
     "title": ""
    }
   },
   "outputs": [
    {
     "output_type": "stream",
     "name": "stdout",
     "output_type": "stream",
     "text": [
      "sanjoy has given good feedback\n"
     ]
    }
   ],
   "source": [
    "class students:\n",
    "    def __init__(self, age, feedbackratings, name):\n",
    "        self.__age = age\n",
    "        self.feedbackratings = feedbackratings\n",
    "        self.__name = name\n",
    "    def feedback(self):\n",
    "        if self.feedbackratings > 3:\n",
    "            print(self.name + \" has given good feedback\")\n",
    "        elif self.feedbackratings == 3:\n",
    "            print(self.name + \" has given medium feedback\")\n",
    "        else:  \n",
    "            print(self.name + \" has given bad feedback\")\n",
    "    def setAge(self,age):\n",
    "        self.__age=age\n",
    "\n",
    "\n",
    "    \n",
    "\n",
    "\n",
    "\n",
    "st1 = students(30, 3, \"Raju\")\n",
    "###setter method\n",
    "st1.setAge(46)\n",
    "###setter method is setting the value of the private variable\n",
    "####this is true for all the programming languages\n",
    "\n",
    "\n",
    "\n",
    "\n",
    "\n",
    "\n",
    "\n",
    "\n",
    "st1.feedbackratings=4.5\n",
    "st1.feedback()\n"
   ]
  },
  {
   "cell_type": "code",
   "execution_count": 0,
   "metadata": {
    "application/vnd.databricks.v1+cell": {
     "cellMetadata": {
      "byteLimit": 2048000,
      "rowLimit": 10000
     },
     "inputWidgets": {},
     "nuid": "cb974153-64c6-49f4-bdae-fa200551f1e5",
     "showTitle": false,
     "title": ""
    }
   },
   "outputs": [
    {
     "output_type": "stream",
     "name": "stdout",
     "output_type": "stream",
     "text": [
      "good\nlower insurance\ngood\n"
     ]
    }
   ],
   "source": [
    "class Vehicle:\n",
    "    def __init__(self,brand, color, noOfWheels):\n",
    "        self.brand=brand\n",
    "        self.color=color\n",
    "        self.noOfWheels=noOfWheels\n",
    "    def drivingQuality(self):\n",
    "        if (self.noOfWheels>=4):\n",
    "            print(\"good\")\n",
    "        else:\n",
    "            print(\"bad\")\n",
    "    \n",
    "##car and the other one is Truck\n",
    "\n",
    "class Car(Vehicle):\n",
    "    def __init__(self,brand, color, noOfWheels, engineName):\n",
    "        self.engineName=engineName\n",
    "        super().__init__(brand, color, noOfWheels)\n",
    "    def insuranceCost(self):\n",
    "        if (self.color==\"red\"):\n",
    "            print(\"Higher insurance\")\n",
    "        else:\n",
    "            print(\"lower insurance\")\n",
    "    def drivingQuality(self):\n",
    "        if (self.noOfWheels>=4 and self.engineName==\"ferrari\"):\n",
    "            print(\"good\")\n",
    "        else:\n",
    "            print(\"bad\")\n",
    "\n",
    "class Truck(Vehicle):\n",
    "    def __init__(self,brand, color, noOfWheels, manufacturingCompany):\n",
    "        self.manufacturingCompany=manufacturingCompany\n",
    "        super().__init__(brand, color, noOfWheels)\n",
    "    def insuranceCost(self):\n",
    "        if (self.color==\"red\"):\n",
    "            print(\"Higher insurance\")\n",
    "        else:\n",
    "            print(\"lower insurance\")\n",
    "    def drivingQuality(self):\n",
    "        if (self.noOfWheels>=4 and self.manufacturingCompany==\"L&T\"):\n",
    "            print(\"good\")\n",
    "        else:\n",
    "            print(\"bad\")\n",
    "\n",
    "##length\n",
    "car1=Car(\"ford\",\"black\",4,\"ferrari\")\n",
    "car1.drivingQuality()\n",
    "car1.insuranceCost()\n",
    "\n",
    "truck1=Truck(\"Ford\",\"Blue\",16,\"L&T\")\n",
    "truck1.drivingQuality()\n",
    "\n",
    "\n",
    "###modularity, \n",
    "##reusability\n",
    "###abstraction \n",
    "\n",
    "\n",
    "\n",
    "\n",
    "\n",
    "        "
   ]
  },
  {
   "cell_type": "code",
   "execution_count": 0,
   "metadata": {
    "application/vnd.databricks.v1+cell": {
     "cellMetadata": {
      "byteLimit": 2048000,
      "rowLimit": 10000
     },
     "inputWidgets": {},
     "nuid": "dc5007f7-41d1-4ac2-a999-3ac897ef4c14",
     "showTitle": false,
     "title": ""
    }
   },
   "outputs": [
    {
     "output_type": "stream",
     "name": "stdout",
     "output_type": "stream",
     "text": [
      "good\nlower insurance\n"
     ]
    }
   ],
   "source": [
    "####encapsulation\n",
    "class Vehicle:\n",
    "    def __init__(self,brand, color, noOfWheels):\n",
    "        self.brand=brand\n",
    "        self.color=color\n",
    "        self.noOfWheels=noOfWheels\n",
    "    def drivingQuality(self):\n",
    "        if (self.noOfWheels>=4):\n",
    "            print(\"good\")\n",
    "        else:\n",
    "            print(\"bad\")\n",
    "    \n",
    "##car and the other one is Truck\n",
    "\n",
    "class Car(Vehicle):\n",
    "    def __init__(self,brand, color, noOfWheels, engineName):\n",
    "        self.engineName=engineName\n",
    "        super().__init__(brand, color, noOfWheels)\n",
    "    def insuranceCost(self):\n",
    "        if (self.color==\"red\"):\n",
    "            print(\"Higher insurance\")\n",
    "        else:\n",
    "            print(\"lower insurance\")\n",
    "    def drivingQuality(self):\n",
    "        if (self.noOfWheels>=4 and self.engineName==\"ferrari\"):\n",
    "            print(\"good\")\n",
    "        else:\n",
    "            print(\"bad\")\n",
    "\n",
    "car1=Car(\"ford\",\"black\",4,\"ferrari\")\n",
    "car1.drivingQuality()\n",
    "car1.insuranceCost()\n"
   ]
  },
  {
   "cell_type": "code",
   "execution_count": 0,
   "metadata": {
    "application/vnd.databricks.v1+cell": {
     "cellMetadata": {},
     "inputWidgets": {},
     "nuid": "215b3675-0076-488b-b180-680912bc9ee2",
     "showTitle": false,
     "title": ""
    }
   },
   "outputs": [],
   "source": [
    "class Truck(Vehicle):\n",
    "    def __init__(self,brand, color, noOfWheels, manufacturingCompany):\n",
    "        self.manufacturingCompany=manufacturingCompany\n",
    "        super().__init__(brand, color, noOfWheels)\n",
    "    def insuranceCost(self):\n",
    "        if (self.color==\"red\"):\n",
    "            print(\"Higher insurance\")\n",
    "        else:\n",
    "            print(\"lower insurance\")  \n",
    "    def drivingQuality(self):\n",
    "        if (self.noOfWheels>4 and self.manufacturingCompany=\"L&T\"):\n",
    "            print(\"good\")\n",
    "        else:\n",
    "            print(\"bad\")"
   ]
  },
  {
   "cell_type": "code",
   "execution_count": 0,
   "metadata": {
    "application/vnd.databricks.v1+cell": {
     "cellMetadata": {
      "byteLimit": 2048000,
      "rowLimit": 10000
     },
     "inputWidgets": {},
     "nuid": "264a74f2-027f-4315-a5a8-7084a253af96",
     "showTitle": false,
     "title": ""
    }
   },
   "outputs": [
    {
     "output_type": "stream",
     "name": "stdout",
     "output_type": "stream",
     "text": [
      "worked with FedEx more than 10 years\nno extra vacation\n"
     ]
    }
   ],
   "source": [
    "from datetime import datetime\n",
    "\n",
    "class Employee:\n",
    "    def __init__(self, emp_ID, emp_nm, role, sallary, hire_date):\n",
    "        self.emp_ID = emp_ID\n",
    "        self.emp_nm = emp_nm\n",
    "        self.role=role\n",
    "        self.sallary=sallary\n",
    "        self.hire_date=hire_date\n",
    "    def experience(self):\n",
    "        if (self.hire_date <= datetime.strptime(\"2014-01-01\", \"%Y-%m-%d\")):\n",
    "            print(\"worked with FedEx more than 10 years\")\n",
    "            print(\"no extra vacation\")\n",
    "        else:\n",
    "            print(\"worked with FedEx less than 10 years\")\n",
    "\n",
    "emp2=Employee(5555555, \"Jean Brown\", \"Scientist\", 100000, datetime.strptime(\"2013-01-01\", \"%Y-%m-%d\") )\n",
    "emp2.experience()\n"
   ]
  },
  {
   "cell_type": "code",
   "execution_count": 0,
   "metadata": {
    "application/vnd.databricks.v1+cell": {
     "cellMetadata": {
      "byteLimit": 2048000,
      "rowLimit": 10000
     },
     "inputWidgets": {},
     "nuid": "89a5eb4f-391d-4a17-b054-b1828e20fad7",
     "showTitle": false,
     "title": ""
    }
   },
   "outputs": [
    {
     "output_type": "stream",
     "name": "stdout",
     "output_type": "stream",
     "text": [
      "good\n"
     ]
    }
   ],
   "source": [
    "class Truck(Vehicle):\n",
    "    def __init__(self,brand, color, noOfWheels, manufacturingCompany):\n",
    "        self.manufacturingCompany=manufacturingCompany\n",
    "        super().__init__(brand, color, noOfWheels)\n",
    "    def insuranceCost(self):\n",
    "        if (self.color==\"red\"):\n",
    "            print(\"Higher insurance\")\n",
    "        else:\n",
    "            print(\"lower insurance\")  \n",
    "    \n",
    "    def drivingQuality(self):\n",
    "        if (self.noOfWheels>4 and self.manufacturingCompany==\"L&T\" ):\n",
    "            print(\"good\")\n",
    "        else:\n",
    "            print(\"bad\")\n",
    "\n",
    "truck1=Truck(\"Ford\",\"Blue\",16,\"L&T\")\n",
    "truck1.drivingQuality()"
   ]
  },
  {
   "cell_type": "code",
   "execution_count": 0,
   "metadata": {
    "application/vnd.databricks.v1+cell": {
     "cellMetadata": {
      "byteLimit": 2048000,
      "rowLimit": 10000
     },
     "inputWidgets": {},
     "nuid": "597cc5d4-de99-443b-8b0c-6ec54010dbb8",
     "showTitle": false,
     "title": ""
    }
   },
   "outputs": [
    {
     "output_type": "stream",
     "name": "stdout",
     "output_type": "stream",
     "text": [
      "worked with FedEx more than 10 years\nno extra vacation\n3 days extra vacations\n"
     ]
    }
   ],
   "source": [
    "from datetime import datetime\n",
    "\n",
    "class Employee:\n",
    "    def __init__(self, emp_ID, emp_nm, role, sallary, hire_date):\n",
    "        self.emp_ID = emp_ID\n",
    "        self.emp_nm = emp_nm\n",
    "        self.role=role\n",
    "        self.sallary=sallary\n",
    "        self.hire_date=hire_date\n",
    "    def experience(self):\n",
    "        if (self.hire_date <= datetime.strptime(\"2014-01-01\", \"%Y-%m-%d\")):\n",
    "            print(\"worked with FedEx more than 10 years\")\n",
    "            print(\"no extra vacation\")\n",
    "        else:\n",
    "            print(\"worked with FedEx less than 10 years\")\n",
    "\n",
    "emp2=Employee(5555555, \"Jean Brown\", \"Scientist\", 100000, datetime.strptime(\"2013-01-01\", \"%Y-%m-%d\") )\n",
    "emp2.experience()\n",
    "\n",
    "class Department(Employee):\n",
    "    def __init__(self,emp_ID, emp_nm, role,sallary, hire_date):\n",
    "        super().__init__(emp_ID, emp_nm, role,sallary, hire_date)\n",
    "\n",
    "    def cmpvacation(self):\n",
    "         if (datetime.strptime(self.hire_date,\"%Y-%m-%d\") <= datetime.strptime(\"2014-01-01\", \"%Y-%m-%d\")):\n",
    "            print(\"3 days extra vacations\")\n",
    "\n",
    "emp3=Department(55555,\"JeanAdobe\",\"manager\" ,100000, \"2013-01-01\")\n",
    "emp3.cmpvacation()"
   ]
  }
 ],
 "metadata": {
  "application/vnd.databricks.v1+notebook": {
   "dashboards": [],
   "language": "python",
   "notebookMetadata": {
    "pythonIndentUnit": 4
   },
   "notebookName": "Class Notes:",
   "widgets": {}
  }
 },
 "nbformat": 4,
 "nbformat_minor": 0
}
