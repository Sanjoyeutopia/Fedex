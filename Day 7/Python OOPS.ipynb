{
 "cells": [
  {
   "cell_type": "code",
   "execution_count": 0,
   "metadata": {
    "application/vnd.databricks.v1+cell": {
     "cellMetadata": {},
     "inputWidgets": {},
     "nuid": "8db913c6-1b90-4ff9-98fc-54aae208246f",
     "showTitle": false,
     "title": ""
    }
   },
   "outputs": [],
   "source": [
    "class CityTemperature:\n",
    "    def __init__(self, city_name, temperatures):\n",
    "        self.city_name = city_name\n",
    "        self.temperatures = temperatures  # List of daily temperatures\n",
    "\n",
    "    def add_temperature(self, temp):\n",
    "        self.temperatures.append(temp)\n",
    "\n",
    "    def get_average_temperature(self):\n",
    "        return sum(self.temperatures) / len(self.temperatures)\n",
    "\n",
    "    def filter_temperatures(self, condition):\n",
    "        # Use a lambda function for flexible filtering\n",
    "        return list(filter(condition, self.temperatures))\n",
    "    \n",
    "    def analyze_data(self):\n",
    "        average_temp = self.get_average_temperature()\n",
    "        print(f\"{self.city_name} - Average Temperature: {average_temp}\")\n",
    "\n"
   ]
  },
  {
   "cell_type": "code",
   "execution_count": 0,
   "metadata": {
    "application/vnd.databricks.v1+cell": {
     "cellMetadata": {},
     "inputWidgets": {},
     "nuid": "410a87f9-45e6-4653-9706-8467237a54cf",
     "showTitle": false,
     "title": ""
    }
   },
   "outputs": [],
   "source": [
    "class CityTemperatureAnomalies(CityTemperature):\n",
    "    def __init__(self, city_name, temperatures):\n",
    "        super().__init__(city_name, temperatures)\n",
    "        self.anomalies = []\n",
    "\n",
    "    def detect_anomalies(self, lower_bound, upper_bound):\n",
    "        self.anomalies = [temp for temp in self.temperatures if temp < lower_bound or temp > upper_bound]\n",
    "\n",
    "    def get_anomalies(self):\n",
    "        return self.anomalies\n",
    "    \n",
    "    def analyze_data(self):\n",
    "        super().analyze_data()\n",
    "        self.detect_anomalies(lower_bound=18, upper_bound=26)\n",
    "        print(f\"{self.city_name} - Detected Anomalies: {self.get_anomalies()}\")\n"
   ]
  },
  {
   "cell_type": "code",
   "execution_count": 0,
   "metadata": {
    "application/vnd.databricks.v1+cell": {
     "cellMetadata": {},
     "inputWidgets": {},
     "nuid": "0d0dda20-c036-4db7-b12d-503a956f838c",
     "showTitle": false,
     "title": ""
    }
   },
   "outputs": [],
   "source": [
    "class TemperatureDataManager:\n",
    "    def __init__(self):\n",
    "        self.city_data = {}  # Dictionary to store CityTemperature objects\n",
    "\n",
    "    def add_city_data(self, city_name, temperatures):\n",
    "        self.city_data[city_name] = CityTemperature(city_name, temperatures)\n",
    "\n",
    "    def get_city_average(self, city_name):\n",
    "        city = self.city_data.get(city_name)\n",
    "        if city:\n",
    "            return city.get_average_temperature()\n",
    "        return None\n",
    "\n",
    "    def all_cities_average(self):\n",
    "        # Demonstrates polymorphism; different objects, same method\n",
    "        return {city: data.get_average_temperature() for city, data in self.city_data.items()}\n"
   ]
  },
  {
   "cell_type": "code",
   "execution_count": 0,
   "metadata": {
    "application/vnd.databricks.v1+cell": {
     "cellMetadata": {},
     "inputWidgets": {},
     "nuid": "dcc103d5-482b-4fa3-a4a9-a304a574456e",
     "showTitle": false,
     "title": ""
    }
   },
   "outputs": [],
   "source": [
    "city_a_temp = CityTemperature(\"CityA\", [22, 23, 25, 21, 20, 19])\n",
    "city_b_temp = CityTemperatureAnomalies(\"CityB\", [30, 29, 31, 33, 28, 27])\n",
    "\n",
    "# Performing basic analysis on CityA\n",
    "city_a_temp.analyze_data()\n",
    "\n",
    "# Performing advanced analysis (with anomaly detection) on CityB\n",
    "city_b_temp.analyze_data()\n",
    "# Creating instances and using the classes\n",
    "data_manager = TemperatureDataManager()\n",
    "data_manager.add_city_data(\"CityA\", [22, 23, 25, 21, 20, 19])\n",
    "data_manager.add_city_data(\"CityB\", [30, 29, 31, 33, 28, 27])\n",
    "\n",
    "# Calculating average temperature for a city\n",
    "print(\"Average Temp in CityA:\", data_manager.get_city_average(\"CityA\"))\n",
    "\n",
    "# Calculating averages for all cities\n",
    "print(\"All Cities Average Temp:\", data_manager.all_cities_average())\n",
    "\n",
    "# Detecting anomalies\n",
    "cityB_temps = data_manager.city_data[\"CityB\"]\n",
    "cityB_temps.detect_anomalies(lower_bound=25, upper_bound=32)\n",
    "print(\"Anomalies in CityB:\", cityB_temps.get_anomalies())\n",
    "\n",
    "# Using lambda function to filter temperatures\n",
    "hot_days = cityB_temps.filter_temperatures(lambda x: x > 30)\n",
    "print(\"Hot days in CityB:\", hot_days)\n"
   ]
  }
 ],
 "metadata": {
  "application/vnd.databricks.v1+notebook": {
   "dashboards": [],
   "language": "python",
   "notebookMetadata": {
    "pythonIndentUnit": 4
   },
   "notebookName": "Python OOPS",
   "widgets": {}
  }
 },
 "nbformat": 4,
 "nbformat_minor": 0
}
