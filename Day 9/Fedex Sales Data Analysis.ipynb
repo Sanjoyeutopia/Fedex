{
 "cells": [
  {
   "cell_type": "code",
   "execution_count": 0,
   "metadata": {
    "application/vnd.databricks.v1+cell": {
     "cellMetadata": {
      "byteLimit": 2048000,
      "rowLimit": 10000
     },
     "inputWidgets": {},
     "nuid": "166b92c8-c150-462c-8fbd-412bae0a64e3",
     "showTitle": false,
     "title": ""
    }
   },
   "outputs": [],
   "source": [
    "import pandas as pd\n",
    "import numpy as np"
   ]
  },
  {
   "cell_type": "markdown",
   "metadata": {
    "application/vnd.databricks.v1+cell": {
     "cellMetadata": {
      "byteLimit": 2048000,
      "rowLimit": 10000
     },
     "inputWidgets": {},
     "nuid": "6b330b21-48ce-47bc-95f0-53d441bea63d",
     "showTitle": false,
     "title": ""
    }
   },
   "source": [
    "Setting up Panda and understanding the Data"
   ]
  },
  {
   "cell_type": "code",
   "execution_count": 0,
   "metadata": {
    "application/vnd.databricks.v1+cell": {
     "cellMetadata": {
      "byteLimit": 2048000,
      "rowLimit": 10000
     },
     "inputWidgets": {},
     "nuid": "dcf261ac-4a5a-43e6-92ad-ad9809e7088f",
     "showTitle": false,
     "title": ""
    }
   },
   "outputs": [
    {
     "output_type": "execute_result",
     "data": {
      "text/html": [
       "<div>\n",
       "<style scoped>\n",
       "    .dataframe tbody tr th:only-of-type {\n",
       "        vertical-align: middle;\n",
       "    }\n",
       "\n",
       "    .dataframe tbody tr th {\n",
       "        vertical-align: top;\n",
       "    }\n",
       "\n",
       "    .dataframe thead th {\n",
       "        text-align: right;\n",
       "    }\n",
       "</style>\n",
       "<table border=\"1\" class=\"dataframe\">\n",
       "  <thead>\n",
       "    <tr style=\"text-align: right;\">\n",
       "      <th></th>\n",
       "      <th>TransactionID</th>\n",
       "      <th>Date</th>\n",
       "      <th>ProductID</th>\n",
       "      <th>ProductName</th>\n",
       "      <th>Quantity</th>\n",
       "      <th>UnitPrice</th>\n",
       "      <th>TotalSale</th>\n",
       "      <th>CustomerID</th>\n",
       "      <th>CustomerAge</th>\n",
       "      <th>CustomerGender</th>\n",
       "      <th>Region</th>\n",
       "      <th>City</th>\n",
       "      <th>SalesChannel</th>\n",
       "      <th>OrderPriority</th>\n",
       "      <th>Returns</th>\n",
       "      <th>ReturnReason</th>\n",
       "      <th>DeliveryTimeDays</th>\n",
       "      <th>DiscountRate</th>\n",
       "      <th>DiscountAmount</th>\n",
       "      <th>PaymentMethod</th>\n",
       "      <th>ProductCategory</th>\n",
       "      <th>ProductWeight</th>\n",
       "      <th>ShippingCost</th>\n",
       "      <th>WarehouseLocation</th>\n",
       "      <th>OrderStatus</th>\n",
       "      <th>FeedbackScore</th>\n",
       "      <th>ReviewComments</th>\n",
       "    </tr>\n",
       "  </thead>\n",
       "  <tbody>\n",
       "    <tr>\n",
       "      <th>0</th>\n",
       "      <td>1</td>\n",
       "      <td>2023-07-20</td>\n",
       "      <td>3</td>\n",
       "      <td>Product C</td>\n",
       "      <td>18</td>\n",
       "      <td>84.05</td>\n",
       "      <td>1512.90</td>\n",
       "      <td>CUST194</td>\n",
       "      <td>54</td>\n",
       "      <td>Other</td>\n",
       "      <td>East</td>\n",
       "      <td>City C</td>\n",
       "      <td>Offline</td>\n",
       "      <td>High</td>\n",
       "      <td>0</td>\n",
       "      <td>NaN</td>\n",
       "      <td>13</td>\n",
       "      <td>0.06</td>\n",
       "      <td>5.0430</td>\n",
       "      <td>Credit Card</td>\n",
       "      <td>Sports</td>\n",
       "      <td>1.04</td>\n",
       "      <td>8.15</td>\n",
       "      <td>Location A</td>\n",
       "      <td>Delivered</td>\n",
       "      <td>1</td>\n",
       "      <td>Poor quality</td>\n",
       "    </tr>\n",
       "    <tr>\n",
       "      <th>1</th>\n",
       "      <td>2</td>\n",
       "      <td>2023-11-08</td>\n",
       "      <td>15</td>\n",
       "      <td>Product R</td>\n",
       "      <td>11</td>\n",
       "      <td>70.07</td>\n",
       "      <td>770.77</td>\n",
       "      <td>CUST068</td>\n",
       "      <td>59</td>\n",
       "      <td>Female</td>\n",
       "      <td>South</td>\n",
       "      <td>City A</td>\n",
       "      <td>Online</td>\n",
       "      <td>High</td>\n",
       "      <td>0</td>\n",
       "      <td>NaN</td>\n",
       "      <td>1</td>\n",
       "      <td>0.24</td>\n",
       "      <td>16.8168</td>\n",
       "      <td>Bank Transfer</td>\n",
       "      <td>Electronics</td>\n",
       "      <td>2.63</td>\n",
       "      <td>6.18</td>\n",
       "      <td>Location B</td>\n",
       "      <td>Delivered</td>\n",
       "      <td>1</td>\n",
       "      <td>Excellent</td>\n",
       "    </tr>\n",
       "    <tr>\n",
       "      <th>2</th>\n",
       "      <td>3</td>\n",
       "      <td>2023-05-07</td>\n",
       "      <td>14</td>\n",
       "      <td>Product J</td>\n",
       "      <td>2</td>\n",
       "      <td>22.52</td>\n",
       "      <td>45.04</td>\n",
       "      <td>CUST161</td>\n",
       "      <td>34</td>\n",
       "      <td>Other</td>\n",
       "      <td>West</td>\n",
       "      <td>City C</td>\n",
       "      <td>Online</td>\n",
       "      <td>High</td>\n",
       "      <td>1</td>\n",
       "      <td>NaN</td>\n",
       "      <td>8</td>\n",
       "      <td>0.07</td>\n",
       "      <td>1.5764</td>\n",
       "      <td>PayPal</td>\n",
       "      <td>Home &amp; Kitchen</td>\n",
       "      <td>4.55</td>\n",
       "      <td>8.82</td>\n",
       "      <td>Location B</td>\n",
       "      <td>Pending</td>\n",
       "      <td>4</td>\n",
       "      <td>Excellent</td>\n",
       "    </tr>\n",
       "    <tr>\n",
       "      <th>3</th>\n",
       "      <td>4</td>\n",
       "      <td>2023-10-19</td>\n",
       "      <td>11</td>\n",
       "      <td>Product G</td>\n",
       "      <td>18</td>\n",
       "      <td>41.43</td>\n",
       "      <td>745.74</td>\n",
       "      <td>CUST127</td>\n",
       "      <td>54</td>\n",
       "      <td>Other</td>\n",
       "      <td>North</td>\n",
       "      <td>City D</td>\n",
       "      <td>Offline</td>\n",
       "      <td>Low</td>\n",
       "      <td>0</td>\n",
       "      <td>NaN</td>\n",
       "      <td>10</td>\n",
       "      <td>0.16</td>\n",
       "      <td>6.6288</td>\n",
       "      <td>PayPal</td>\n",
       "      <td>Sports</td>\n",
       "      <td>4.04</td>\n",
       "      <td>7.16</td>\n",
       "      <td>Location C</td>\n",
       "      <td>Pending</td>\n",
       "      <td>5</td>\n",
       "      <td>Satisfied</td>\n",
       "    </tr>\n",
       "    <tr>\n",
       "      <th>4</th>\n",
       "      <td>5</td>\n",
       "      <td>2023-07-11</td>\n",
       "      <td>15</td>\n",
       "      <td>Product Q</td>\n",
       "      <td>7</td>\n",
       "      <td>94.52</td>\n",
       "      <td>661.64</td>\n",
       "      <td>CUST164</td>\n",
       "      <td>65</td>\n",
       "      <td>Other</td>\n",
       "      <td>West</td>\n",
       "      <td>City B</td>\n",
       "      <td>Offline</td>\n",
       "      <td>Low</td>\n",
       "      <td>1</td>\n",
       "      <td>NaN</td>\n",
       "      <td>3</td>\n",
       "      <td>0.29</td>\n",
       "      <td>27.4108</td>\n",
       "      <td>Bank Transfer</td>\n",
       "      <td>Home &amp; Kitchen</td>\n",
       "      <td>0.42</td>\n",
       "      <td>12.67</td>\n",
       "      <td>Location B</td>\n",
       "      <td>Cancelled</td>\n",
       "      <td>5</td>\n",
       "      <td>Excellent</td>\n",
       "    </tr>\n",
       "  </tbody>\n",
       "</table>\n",
       "</div>"
      ],
      "text/plain": [
       "   TransactionID        Date  ...  FeedbackScore ReviewComments\n",
       "0              1  2023-07-20  ...              1   Poor quality\n",
       "1              2  2023-11-08  ...              1      Excellent\n",
       "2              3  2023-05-07  ...              4      Excellent\n",
       "3              4  2023-10-19  ...              5      Satisfied\n",
       "4              5  2023-07-11  ...              5      Excellent\n",
       "\n",
       "[5 rows x 27 columns]"
      ]
     },
     "execution_count": 6,
     "metadata": {},
     "output_type": "execute_result"
    }
   ],
   "source": [
    "import pandas as pd\n",
    "\n",
    "df = pd.read_csv(\"/dbfs/FileStore/shared_uploads/sanjoy@thrivetogether.in/complex_sales_data.csv\")\n",
    "df.head()"
   ]
  },
  {
   "cell_type": "code",
   "execution_count": 0,
   "metadata": {
    "application/vnd.databricks.v1+cell": {
     "cellMetadata": {
      "byteLimit": 2048000,
      "rowLimit": 10000
     },
     "inputWidgets": {},
     "nuid": "94cb2eab-cca3-4a7a-940d-849c6dd121df",
     "showTitle": false,
     "title": ""
    }
   },
   "outputs": [
    {
     "output_type": "execute_result",
     "data": {
      "text/plain": [
       "(500, 27)"
      ]
     },
     "execution_count": 7,
     "metadata": {},
     "output_type": "execute_result"
    }
   ],
   "source": [
    "df.shape"
   ]
  },
  {
   "cell_type": "code",
   "execution_count": 0,
   "metadata": {
    "application/vnd.databricks.v1+cell": {
     "cellMetadata": {
      "byteLimit": 2048000,
      "rowLimit": 10000
     },
     "inputWidgets": {},
     "nuid": "bfbb1071-c7eb-4ebb-8bc8-74a75c5e7403",
     "showTitle": false,
     "title": ""
    }
   },
   "outputs": [
    {
     "output_type": "stream",
     "name": "stdout",
     "output_type": "stream",
     "text": [
      "       TransactionID   ProductID  ...  ShippingCost  FeedbackScore\ncount     500.000000  500.000000  ...    500.000000     500.000000\nmean      250.500000   10.256000  ...      9.305640       3.080000\nstd       144.481833    5.813265  ...      3.737003       1.459404\nmin         1.000000    1.000000  ...      3.000000       1.000000\n25%       125.750000    5.000000  ...      6.062500       2.000000\n50%       250.500000   10.000000  ...      9.240000       3.000000\n75%       375.250000   15.000000  ...     12.472500       4.000000\nmax       500.000000   20.000000  ...     15.950000       5.000000\n\n[8 rows x 13 columns]\ncount    500.000000\nmean      56.418020\nstd       25.753599\nmin       11.130000\n25%       34.245000\n50%       57.305000\n75%       78.872500\nmax      100.840000\nName: UnitPrice, dtype: float64\n"
     ]
    }
   ],
   "source": [
    "# Generate summary statistics for numeric columns\n",
    "print(df.describe())\n",
    "\n",
    "# For a specific column like 'UnitPrice'\n",
    "print(df['UnitPrice'].describe())\n"
   ]
  },
  {
   "cell_type": "markdown",
   "metadata": {
    "application/vnd.databricks.v1+cell": {
     "cellMetadata": {},
     "inputWidgets": {},
     "nuid": "fe04b79d-492d-4c7b-a766-12b259e15217",
     "showTitle": false,
     "title": ""
    }
   },
   "source": [
    "Data Cleaning Problem"
   ]
  },
  {
   "cell_type": "code",
   "execution_count": 0,
   "metadata": {
    "application/vnd.databricks.v1+cell": {
     "cellMetadata": {
      "byteLimit": 2048000,
      "rowLimit": 10000
     },
     "inputWidgets": {},
     "nuid": "3487cd0f-014a-4358-ae8e-f0146f11bee2",
     "showTitle": false,
     "title": ""
    }
   },
   "outputs": [
    {
     "output_type": "stream",
     "name": "stdout",
     "output_type": "stream",
     "text": [
      "Missing Values Count:\nTransactionID          0\nDate                   0\nProductID              0\nProductName            0\nQuantity               0\nUnitPrice              0\nTotalSale              0\nCustomerID             0\nCustomerAge            0\nCustomerGender         0\nRegion                 0\nCity                   0\nSalesChannel           0\nOrderPriority          0\nReturns                0\nReturnReason         444\nDeliveryTimeDays       0\nDiscountRate           0\nDiscountAmount         0\nPaymentMethod          0\nProductCategory        0\nProductWeight          0\nShippingCost           0\nWarehouseLocation      0\nOrderStatus            0\nFeedbackScore          0\nReviewComments        42\ndtype: int64\n\nMissing Values Percentage:\nTransactionID         0.0\nDate                  0.0\nProductID             0.0\nProductName           0.0\nQuantity              0.0\nUnitPrice             0.0\nTotalSale             0.0\nCustomerID            0.0\nCustomerAge           0.0\nCustomerGender        0.0\nRegion                0.0\nCity                  0.0\nSalesChannel          0.0\nOrderPriority         0.0\nReturns               0.0\nReturnReason         88.8\nDeliveryTimeDays      0.0\nDiscountRate          0.0\nDiscountAmount        0.0\nPaymentMethod         0.0\nProductCategory       0.0\nProductWeight         0.0\nShippingCost          0.0\nWarehouseLocation     0.0\nOrderStatus           0.0\nFeedbackScore         0.0\nReviewComments        8.4\ndtype: float64\n"
     ]
    }
   ],
   "source": [
    "# Identifying missing values in each column\n",
    "missing_values = df.isnull().sum()\n",
    "missing_percentage = (missing_values / len(df)) * 100\n",
    "print(f\"Missing Values Count:\\n{missing_values}\\n\")\n",
    "print(f\"Missing Values Percentage:\\n{missing_percentage}\")\n"
   ]
  },
  {
   "cell_type": "code",
   "execution_count": 0,
   "metadata": {
    "application/vnd.databricks.v1+cell": {
     "cellMetadata": {},
     "inputWidgets": {},
     "nuid": "ff4f0c3c-d8be-46d2-9c5d-4e1f9d11b667",
     "showTitle": false,
     "title": ""
    }
   },
   "outputs": [],
   "source": []
  },
  {
   "cell_type": "code",
   "execution_count": 0,
   "metadata": {
    "application/vnd.databricks.v1+cell": {
     "cellMetadata": {
      "byteLimit": 2048000,
      "rowLimit": 10000
     },
     "inputWidgets": {},
     "nuid": "52684e17-dbd2-4bc5-9740-4ab84fdeaa1e",
     "showTitle": false,
     "title": ""
    }
   },
   "outputs": [
    {
     "output_type": "execute_result",
     "data": {
      "text/plain": [
       "(500, 27)"
      ]
     },
     "execution_count": 13,
     "metadata": {},
     "output_type": "execute_result"
    }
   ],
   "source": [
    "# Removing duplicates based on 'TransactionID' and 'Date'\n",
    "df.drop_duplicates(subset=['TransactionID', 'Date'], inplace=True)\n",
    "df.shape\n",
    "\n"
   ]
  },
  {
   "cell_type": "code",
   "execution_count": 0,
   "metadata": {
    "application/vnd.databricks.v1+cell": {
     "cellMetadata": {
      "byteLimit": 2048000,
      "rowLimit": 10000
     },
     "inputWidgets": {},
     "nuid": "28179384-558e-4676-9ce7-1eb39aa42d10",
     "showTitle": false,
     "title": ""
    }
   },
   "outputs": [
    {
     "output_type": "execute_result",
     "data": {
      "text/plain": [
       "0       other\n",
       "1      female\n",
       "2       other\n",
       "3       other\n",
       "4       other\n",
       "        ...  \n",
       "495      male\n",
       "496     other\n",
       "497     other\n",
       "498      male\n",
       "499      male\n",
       "Name: CustomerGender, Length: 500, dtype: object"
      ]
     },
     "execution_count": 18,
     "metadata": {},
     "output_type": "execute_result"
    }
   ],
   "source": [
    "# Converting 'CustomerGender' to lowercase for consistency\n",
    "df['CustomerGender'] = df['CustomerGender'].str.lower()\n",
    "df[\"CustomerGender\"]\n"
   ]
  },
  {
   "cell_type": "code",
   "execution_count": 0,
   "metadata": {
    "application/vnd.databricks.v1+cell": {
     "cellMetadata": {
      "byteLimit": 2048000,
      "rowLimit": 10000
     },
     "inputWidgets": {},
     "nuid": "483a703a-cad7-4e13-90e5-8f2f1ff5738b",
     "showTitle": false,
     "title": ""
    }
   },
   "outputs": [
    {
     "output_type": "execute_result",
     "data": {
      "text/plain": [
       "0      54\n",
       "1      59\n",
       "2      34\n",
       "3      54\n",
       "4      65\n",
       "       ..\n",
       "495    42\n",
       "496    68\n",
       "497    53\n",
       "498    34\n",
       "499    58\n",
       "Name: CustomerAge, Length: 500, dtype: int64"
      ]
     },
     "execution_count": 20,
     "metadata": {},
     "output_type": "execute_result"
    }
   ],
   "source": [
    "# Convert 'Date' to datetime and ensure 'CustomerAge' is integer\n",
    "df['Date'] = pd.to_datetime(df['Date'])\n",
    "df['CustomerAge'] = df['CustomerAge'].astype(int)\n",
    "df['CustomerAge']\n"
   ]
  },
  {
   "cell_type": "code",
   "execution_count": 0,
   "metadata": {
    "application/vnd.databricks.v1+cell": {
     "cellMetadata": {
      "byteLimit": 2048000,
      "rowLimit": 10000
     },
     "inputWidgets": {},
     "nuid": "ad41af5d-3b53-4c64-84c7-73c7469f1ce8",
     "showTitle": false,
     "title": ""
    }
   },
   "outputs": [],
   "source": [
    "# Calculating IQR\n",
    "Q1 = df['UnitPrice'].quantile(0.25)\n",
    "Q3 = df['UnitPrice'].quantile(0.75)\n",
    "IQR = Q3 - Q1\n",
    "\n",
    "# Defining bounds for outliers\n",
    "lower_bound = Q1 - 1.5 * IQR\n",
    "upper_bound = Q3 + 1.5 * IQR\n",
    "\n",
    "# Option 1: Remove outliers\n",
    "df_no_outliers = df[(df['UnitPrice'] >= lower_bound) & (df['UnitPrice'] <= upper_bound)]\n",
    "\n",
    "# Option 2: Cap outliers to nearest bound\n",
    "df['UnitPrice'] = df['UnitPrice'].clip(lower=lower_bound, upper=upper_bound)\n"
   ]
  },
  {
   "cell_type": "code",
   "execution_count": 0,
   "metadata": {
    "application/vnd.databricks.v1+cell": {
     "cellMetadata": {
      "byteLimit": 2048000,
      "rowLimit": 10000
     },
     "inputWidgets": {},
     "nuid": "a0885743-fb1e-4f63-98a4-3832a0908b76",
     "showTitle": false,
     "title": ""
    }
   },
   "outputs": [],
   "source": [
    "# Filling missing 'ReturnReason' for rows with returns\n",
    "df.loc[df['Returns'] == 1, 'ReturnReason'] = df.loc[df['Returns'] == 1, 'ReturnReason'].fillna('Reason Not Provided')\n"
   ]
  },
  {
   "cell_type": "code",
   "execution_count": 0,
   "metadata": {
    "application/vnd.databricks.v1+cell": {
     "cellMetadata": {
      "byteLimit": 2048000,
      "rowLimit": 10000
     },
     "inputWidgets": {},
     "nuid": "46e3b4e3-6141-44a7-95a1-9d20064effca",
     "showTitle": false,
     "title": ""
    }
   },
   "outputs": [],
   "source": [
    "# Correcting common typos with string methods\n",
    "df['ProductName'] = df['ProductName'].str.replace('Prodcut', 'Product', regex=False)\n",
    "df['ProductName'] = df['ProductName'].str.replace('Porduct', 'Product', regex=False)\n"
   ]
  },
  {
   "cell_type": "code",
   "execution_count": 0,
   "metadata": {
    "application/vnd.databricks.v1+cell": {
     "cellMetadata": {
      "byteLimit": 2048000,
      "rowLimit": 10000
     },
     "inputWidgets": {},
     "nuid": "8927e415-7795-4535-a93a-399117d15684",
     "showTitle": false,
     "title": ""
    }
   },
   "outputs": [],
   "source": [
    "#Normalize DiscountRate\n",
    "#Applying Min-Max normalization to bring DiscountRate to a 0-1 scale.\n",
    "df['DiscountRateNormalized'] = (df['DiscountRate'] - df['DiscountRate'].min()) / (df['DiscountRate'].max() - df['DiscountRate'].min())\n",
    "\n",
    "\n",
    "\n"
   ]
  },
  {
   "cell_type": "code",
   "execution_count": 0,
   "metadata": {
    "application/vnd.databricks.v1+cell": {
     "cellMetadata": {
      "byteLimit": 2048000,
      "rowLimit": 10000
     },
     "inputWidgets": {},
     "nuid": "bcd1cd2b-d0d5-46ad-9746-4a9741b5d8db",
     "showTitle": false,
     "title": ""
    }
   },
   "outputs": [],
   "source": [
    "# Defining age bins and labels\n",
    "age_bins = [0, 18, 30, 40, 50, 60, 70, 120]\n",
    "age_labels = ['<18', '18-30', '30-40', '40-50', '50-60', '60-70', '70+']\n",
    "df['AgeGroup'] = pd.cut(df['CustomerAge'], bins=age_bins, labels=age_labels)\n",
    "\n"
   ]
  },
  {
   "cell_type": "code",
   "execution_count": 0,
   "metadata": {
    "application/vnd.databricks.v1+cell": {
     "cellMetadata": {
      "byteLimit": 2048000,
      "rowLimit": 10000
     },
     "inputWidgets": {},
     "nuid": "e610c7e1-475a-4a93-8e33-b0fb9610aec4",
     "showTitle": false,
     "title": ""
    }
   },
   "outputs": [],
   "source": [
    "# Applying one-hot encoding to 'Region' and 'SalesChannel'\n",
    "df_encoded = pd.get_dummies(df, columns=['Region', 'SalesChannel'])\n"
   ]
  },
  {
   "cell_type": "code",
   "execution_count": 0,
   "metadata": {
    "application/vnd.databricks.v1+cell": {
     "cellMetadata": {
      "byteLimit": 2048000,
      "rowLimit": 10000
     },
     "inputWidgets": {},
     "nuid": "c4da3252-16a8-4383-a554-83f6645ca1d4",
     "showTitle": false,
     "title": ""
    }
   },
   "outputs": [],
   "source": [
    "# Replacing zeros with NaN to handle them as missing values\n",
    "df[['Quantity', 'UnitPrice']] = df[['Quantity', 'UnitPrice']].replace(0, np.nan)\n"
   ]
  },
  {
   "cell_type": "code",
   "execution_count": 0,
   "metadata": {
    "application/vnd.databricks.v1+cell": {
     "cellMetadata": {
      "byteLimit": 2048000,
      "rowLimit": 10000
     },
     "inputWidgets": {},
     "nuid": "1f255ce4-5daa-44fa-a080-73bd3fd019b5",
     "showTitle": false,
     "title": ""
    }
   },
   "outputs": [],
   "source": [
    "# Title casing 'ProductName' for consistency\n",
    "df['ProductName'] = df['ProductName'].str.title()\n"
   ]
  },
  {
   "cell_type": "code",
   "execution_count": 0,
   "metadata": {
    "application/vnd.databricks.v1+cell": {
     "cellMetadata": {
      "byteLimit": 2048000,
      "rowLimit": 10000
     },
     "inputWidgets": {},
     "nuid": "c8b9c542-d261-40df-b06b-9984243a03bc",
     "showTitle": false,
     "title": ""
    }
   },
   "outputs": [
    {
     "output_type": "display_data",
     "data": {
      "text/plain": [
       "\u001B[0;31m---------------------------------------------------------------------------\u001B[0m\n",
       "\u001B[0;31mModuleNotFoundError\u001B[0m                       Traceback (most recent call last)\n",
       "File \u001B[0;32m<command-756048061544871>, line 2\u001B[0m\n",
       "\u001B[1;32m      1\u001B[0m \u001B[38;5;66;03m# Example of using fuzzywuzzy (requires installation)\u001B[39;00m\n",
       "\u001B[0;32m----> 2\u001B[0m \u001B[38;5;28;01mfrom\u001B[39;00m \u001B[38;5;21;01mfuzzywuzzy\u001B[39;00m \u001B[38;5;28;01mimport\u001B[39;00m process\n",
       "\u001B[1;32m      4\u001B[0m \u001B[38;5;66;03m# Define a list of correct product names\u001B[39;00m\n",
       "\u001B[1;32m      5\u001B[0m correct_names \u001B[38;5;241m=\u001B[39m [\u001B[38;5;124m'\u001B[39m\u001B[38;5;124mProduct A\u001B[39m\u001B[38;5;124m'\u001B[39m, \u001B[38;5;124m'\u001B[39m\u001B[38;5;124mProduct B\u001B[39m\u001B[38;5;124m'\u001B[39m, \u001B[38;5;124m'\u001B[39m\u001B[38;5;124mProduct C\u001B[39m\u001B[38;5;124m'\u001B[39m]\n",
       "\n",
       "\u001B[0;31mModuleNotFoundError\u001B[0m: No module named 'fuzzywuzzy'"
      ]
     },
     "metadata": {
      "application/vnd.databricks.v1+output": {
       "arguments": {},
       "data": "\u001B[0;31m---------------------------------------------------------------------------\u001B[0m\n\u001B[0;31mModuleNotFoundError\u001B[0m                       Traceback (most recent call last)\nFile \u001B[0;32m<command-756048061544871>, line 2\u001B[0m\n\u001B[1;32m      1\u001B[0m \u001B[38;5;66;03m# Example of using fuzzywuzzy (requires installation)\u001B[39;00m\n\u001B[0;32m----> 2\u001B[0m \u001B[38;5;28;01mfrom\u001B[39;00m \u001B[38;5;21;01mfuzzywuzzy\u001B[39;00m \u001B[38;5;28;01mimport\u001B[39;00m process\n\u001B[1;32m      4\u001B[0m \u001B[38;5;66;03m# Define a list of correct product names\u001B[39;00m\n\u001B[1;32m      5\u001B[0m correct_names \u001B[38;5;241m=\u001B[39m [\u001B[38;5;124m'\u001B[39m\u001B[38;5;124mProduct A\u001B[39m\u001B[38;5;124m'\u001B[39m, \u001B[38;5;124m'\u001B[39m\u001B[38;5;124mProduct B\u001B[39m\u001B[38;5;124m'\u001B[39m, \u001B[38;5;124m'\u001B[39m\u001B[38;5;124mProduct C\u001B[39m\u001B[38;5;124m'\u001B[39m]\n\n\u001B[0;31mModuleNotFoundError\u001B[0m: No module named 'fuzzywuzzy'",
       "errorSummary": "<span class='ansi-red-fg'>ModuleNotFoundError</span>: No module named 'fuzzywuzzy'",
       "errorTraceType": "ansi",
       "metadata": {},
       "type": "ipynbError"
      }
     },
     "output_type": "display_data"
    }
   ],
   "source": [
    "# Example of using fuzzywuzzy (requires installation)\n",
    "from fuzzywuzzy import process\n",
    "\n",
    "# Define a list of correct product names\n",
    "correct_names = ['Product A', 'Product B', 'Product C']\n",
    "\n",
    "# Function to correct names\n",
    "def correct_product_names(row):\n",
    "    corrected_name = process.extractOne(row['ProductName'], correct_names)[0]\n",
    "    return corrected_name\n",
    "\n",
    "# Apply the correction\n",
    "df['ProductName'] = df.apply(correct_product_names, axis=1)\n",
    "\n"
   ]
  },
  {
   "cell_type": "markdown",
   "metadata": {
    "application/vnd.databricks.v1+cell": {
     "cellMetadata": {},
     "inputWidgets": {},
     "nuid": "2eefe06b-31d2-4d48-84c0-6d1d7e8e7011",
     "showTitle": false,
     "title": ""
    }
   },
   "source": [
    "Data Expoleration"
   ]
  },
  {
   "cell_type": "code",
   "execution_count": 0,
   "metadata": {
    "application/vnd.databricks.v1+cell": {
     "cellMetadata": {
      "byteLimit": 2048000,
      "rowLimit": 10000
     },
     "inputWidgets": {},
     "nuid": "b7c030da-eeb8-45a9-9538-7dcc6a305aeb",
     "showTitle": false,
     "title": ""
    }
   },
   "outputs": [
    {
     "output_type": "display_data",
     "data": {
      "image/png": "[encoded data removed]",
      "text/plain": [
       "<Figure size 640x480 with 1 Axes>"
      ]
     },
     "metadata": {},
     "output_type": "display_data"
    }
   ],
   "source": [
    "import matplotlib.pyplot as plt\n",
    "\n",
    "# Count the number of sales per channel\n",
    "sales_channel_counts = df['SalesChannel'].value_counts()\n",
    "\n",
    "# Visualize the distribution\n",
    "sales_channel_counts.plot(kind='bar', color='teal', title='Distribution of Sales Across Sales Channels')\n",
    "plt.xlabel('Sales Channel')\n",
    "plt.ylabel('Number of Sales')\n",
    "plt.xticks(rotation=45)\n",
    "plt.show()\n"
   ]
  },
  {
   "cell_type": "code",
   "execution_count": 0,
   "metadata": {
    "application/vnd.databricks.v1+cell": {
     "cellMetadata": {
      "byteLimit": 2048000,
      "rowLimit": 10000
     },
     "inputWidgets": {},
     "nuid": "f7ce693e-5f0a-485c-afbd-70c0020e93d3",
     "showTitle": false,
     "title": ""
    }
   },
   "outputs": [
    {
     "output_type": "display_data",
     "data": {
      "image/png": "[encoded data removed]",
      "text/plain": [
       "<Figure size 640x480 with 1 Axes>"
      ]
     },
     "metadata": {},
     "output_type": "display_data"
    }
   ],
   "source": [
    "#Sales trends over time\n",
    "# Ensure 'Date' is in datetime format\n",
    "df['Date'] = pd.to_datetime(df['Date'])\n",
    "\n",
    "# Aggregate sales quantities by date\n",
    "sales_trends = df.groupby(df['Date'].dt.to_period('M'))['Quantity'].sum()\n",
    "\n",
    "# Plotting the trend\n",
    "sales_trends.plot(kind='line', color='purple', title='Sales Quantity Trend Over Time')\n",
    "plt.xlabel('Month')\n",
    "plt.ylabel('Total Quantity Sold')\n",
    "plt.xticks(rotation=45)\n",
    "plt.show()\n"
   ]
  },
  {
   "cell_type": "code",
   "execution_count": 0,
   "metadata": {
    "application/vnd.databricks.v1+cell": {
     "cellMetadata": {
      "byteLimit": 2048000,
      "rowLimit": 10000
     },
     "inputWidgets": {},
     "nuid": "6210b3e5-dff0-469b-b925-aa9e85678640",
     "showTitle": false,
     "title": ""
    }
   },
   "outputs": [
    {
     "output_type": "display_data",
     "data": {
      "image/png": "[encoded data removed]",
      "text/plain": [
       "<Figure size 640x480 with 2 Axes>"
      ]
     },
     "metadata": {},
     "output_type": "display_data"
    }
   ],
   "source": [
    "##Corelation analysis\n",
    "# Selecting relevant columns for correlation analysis\n",
    "correlation_data = df[['Quantity', 'UnitPrice', 'TotalSale']]\n",
    "\n",
    "# Calculating correlation matrix\n",
    "corr_matrix = correlation_data.corr()\n",
    "\n",
    "# Visualizing the correlation matrix\n",
    "import seaborn as sns\n",
    "\n",
    "sns.heatmap(corr_matrix, annot=True, cmap='coolwarm')\n",
    "plt.title('Correlation Matrix')\n",
    "plt.show()\n"
   ]
  },
  {
   "cell_type": "code",
   "execution_count": 0,
   "metadata": {
    "application/vnd.databricks.v1+cell": {
     "cellMetadata": {
      "byteLimit": 2048000,
      "rowLimit": 10000
     },
     "inputWidgets": {},
     "nuid": "eec049a7-99f1-41e3-997a-c4e322374196",
     "showTitle": false,
     "title": ""
    }
   },
   "outputs": [
    {
     "output_type": "stream",
     "name": "stdout",
     "output_type": "stream",
     "text": [
      "Index(['TransactionID', 'Date', 'ProductID', 'ProductName', 'Quantity',\n       'UnitPrice', 'TotalSale', 'CustomerID', 'CustomerAge', 'CustomerGender',\n       'Region', 'City', 'SalesChannel', 'OrderPriority', 'Returns',\n       'ReturnReason', 'DeliveryTimeDays', 'DiscountRate', 'DiscountAmount',\n       'PaymentMethod', 'ProductCategory', 'ProductWeight', 'ShippingCost',\n       'WarehouseLocation', 'OrderStatus', 'FeedbackScore', 'ReviewComments',\n       'DiscountRateNormalized', 'AgeGroup'],\n      dtype='object')\n"
     ]
    },
    {
     "output_type": "display_data",
     "data": {
      "image/png": "[encoded data removed]",
      "text/plain": [
       "<Figure size 640x480 with 1 Axes>"
      ]
     },
     "metadata": {},
     "output_type": "display_data"
    },
    {
     "output_type": "display_data",
     "data": {
      "image/png": "[encoded data removed]",
      "text/plain": [
       "<Figure size 640x480 with 1 Axes>"
      ]
     },
     "metadata": {},
     "output_type": "display_data"
    }
   ],
   "source": [
    "#Return Analysis\n",
    "print(df.columns)\n",
    "# Count the number of returns per product\n",
    "returns_per_product = df[df['Returns'] == 1].groupby('ProductName')['Returns'].count()\n",
    "\n",
    "# Count the number of returns per region\n",
    "returns_per_region = df[df['Returns'] == 1].groupby('Region')['Returns'].count()\n",
    "\n",
    "# Visualizing returns per product\n",
    "returns_per_product.plot(kind='bar', color='orange', title='Returns per Product')\n",
    "plt.xlabel('Product')\n",
    "plt.ylabel('Number of Returns')\n",
    "plt.xticks(rotation=45)\n",
    "plt.show()\n",
    "\n",
    "# Visualizing returns per region\n",
    "returns_per_region.plot(kind='bar', color='blue', title='Returns per Region')\n",
    "plt.xlabel('Region')\n",
    "plt.ylabel('Number of Returns')\n",
    "plt.xticks(rotation=45)\n",
    "plt.show()\n"
   ]
  },
  {
   "cell_type": "code",
   "execution_count": 0,
   "metadata": {
    "application/vnd.databricks.v1+cell": {
     "cellMetadata": {
      "byteLimit": 2048000,
      "rowLimit": 10000
     },
     "inputWidgets": {},
     "nuid": "2ce6aacc-9ce0-40d6-b6b9-c5c46ad11934",
     "showTitle": false,
     "title": ""
    }
   },
   "outputs": [
    {
     "output_type": "display_data",
     "data": {
      "image/png": "[encoded data removed]",
      "text/plain": [
       "<Figure size 640x480 with 1 Axes>"
      ]
     },
     "metadata": {},
     "output_type": "display_data"
    },
    {
     "output_type": "display_data",
     "data": {
      "image/png": "[encoded data removed]",
      "text/plain": [
       "<Figure size 640x480 with 1 Axes>"
      ]
     },
     "metadata": {},
     "output_type": "display_data"
    }
   ],
   "source": [
    "###Customer Analysis\n",
    "# Count the number of returns per product\n",
    "returns_per_product = df[df['Returns'] == 1].groupby('ProductName')['Returns'].count()\n",
    "\n",
    "# Count the number of returns per region\n",
    "returns_per_region = df[df['Returns'] == 1].groupby('Region')['Returns'].count()\n",
    "\n",
    "# Visualizing returns per product\n",
    "returns_per_product.plot(kind='bar', color='orange', title='Returns per Product')\n",
    "plt.xlabel('Product')\n",
    "plt.ylabel('Number of Returns')\n",
    "plt.xticks(rotation=45)\n",
    "plt.show()\n",
    "\n",
    "# Visualizing returns per region\n",
    "returns_per_region.plot(kind='bar', color='blue', title='Returns per Region')\n",
    "plt.xlabel('Region')\n",
    "plt.ylabel('Number of Returns')\n",
    "plt.xticks(rotation=45)\n",
    "plt.show()\n"
   ]
  },
  {
   "cell_type": "markdown",
   "metadata": {
    "application/vnd.databricks.v1+cell": {
     "cellMetadata": {},
     "inputWidgets": {},
     "nuid": "eda0dc35-757e-4eb2-9957-595124c9fc03",
     "showTitle": false,
     "title": ""
    }
   },
   "source": [
    "Data Analysis\n"
   ]
  },
  {
   "cell_type": "code",
   "execution_count": 0,
   "metadata": {
    "application/vnd.databricks.v1+cell": {
     "cellMetadata": {
      "byteLimit": 2048000,
      "rowLimit": 10000
     },
     "inputWidgets": {},
     "nuid": "81315bf9-f37d-4f7c-9e5d-216c1b6ac571",
     "showTitle": false,
     "title": ""
    }
   },
   "outputs": [
    {
     "output_type": "stream",
     "name": "stdout",
     "output_type": "stream",
     "text": [
      "Best-selling Products:\n ProductName\nProduct L    341\nProduct C    326\nProduct M    297\nProduct B    296\nProduct O    288\nName: Quantity, dtype: int64\n"
     ]
    }
   ],
   "source": [
    "best_selling_products = df.groupby('ProductName')['Quantity'].sum().sort_values(ascending=False).head(5)\n",
    "print(\"Best-selling Products:\\n\", best_selling_products)\n"
   ]
  },
  {
   "cell_type": "code",
   "execution_count": 0,
   "metadata": {
    "application/vnd.databricks.v1+cell": {
     "cellMetadata": {
      "byteLimit": 2048000,
      "rowLimit": 10000
     },
     "inputWidgets": {},
     "nuid": "6fed2070-ee61-4b3f-a838-118efe75a3ff",
     "showTitle": false,
     "title": ""
    }
   },
   "outputs": [
    {
     "output_type": "stream",
     "name": "stdout",
     "output_type": "stream",
     "text": [
      "Monthly Sales:\n Month\n2023-01    26314.09\n2023-02    19481.83\n2023-03    26030.28\n2023-04    21559.96\n2023-05    28958.55\n2023-06    18437.98\n2023-07    23678.50\n2023-08    22420.45\n2023-09    22298.22\n2023-10    27278.60\n2023-11    16339.98\n2023-12    26843.36\nFreq: M, Name: TotalSale, dtype: float64\n"
     ]
    }
   ],
   "source": [
    "# Ensure 'Date' is a datetime column\n",
    "df['Month'] = df['Date'].dt.to_period('M')\n",
    "monthly_sales = df.groupby('Month')['TotalSale'].sum()\n",
    "print(\"Monthly Sales:\\n\", monthly_sales)\n"
   ]
  },
  {
   "cell_type": "code",
   "execution_count": 0,
   "metadata": {
    "application/vnd.databricks.v1+cell": {
     "cellMetadata": {
      "byteLimit": 2048000,
      "rowLimit": 10000
     },
     "inputWidgets": {},
     "nuid": "6ef2e7c3-606d-4602-8399-305cfcdaeb48",
     "showTitle": false,
     "title": ""
    }
   },
   "outputs": [
    {
     "output_type": "stream",
     "name": "stdout",
     "output_type": "stream",
     "text": [
      "Average Sale Amount by Return Status:\n Returns\n0    563.076996\n1    507.291765\nName: TotalSale, dtype: float64\n"
     ]
    }
   ],
   "source": [
    "average_sale_by_return_status = df.groupby('Returns')['TotalSale'].mean()\n",
    "print(\"Average Sale Amount by Return Status:\\n\", average_sale_by_return_status)\n"
   ]
  },
  {
   "cell_type": "code",
   "execution_count": 0,
   "metadata": {
    "application/vnd.databricks.v1+cell": {
     "cellMetadata": {
      "byteLimit": 2048000,
      "rowLimit": 10000
     },
     "inputWidgets": {},
     "nuid": "8784af3d-3492-4224-802e-552eed33a493",
     "showTitle": false,
     "title": ""
    }
   },
   "outputs": [
    {
     "output_type": "stream",
     "name": "stdout",
     "output_type": "stream",
     "text": [
      "Sales Channel Efficiency (Average Unit Price):\n SalesChannel\nOffline    58.784901\nOnline     53.993644\nName: UnitPrice, dtype: float64\n"
     ]
    }
   ],
   "source": [
    "channel_efficiency = df.groupby('SalesChannel')['UnitPrice'].mean()\n",
    "print(\"Sales Channel Efficiency (Average Unit Price):\\n\", channel_efficiency)\n"
   ]
  },
  {
   "cell_type": "code",
   "execution_count": 0,
   "metadata": {
    "application/vnd.databricks.v1+cell": {
     "cellMetadata": {
      "byteLimit": 2048000,
      "rowLimit": 10000
     },
     "inputWidgets": {},
     "nuid": "c16cf800-5ada-45c8-94e9-14a579bf3ffe",
     "showTitle": false,
     "title": ""
    }
   },
   "outputs": [
    {
     "output_type": "stream",
     "name": "stdout",
     "output_type": "stream",
     "text": [
      "Common Return Reasons:\n Reason Not Provided    30\nDamaged                 2\nWrong item              1\nNot as described        1\nName: ReturnReason, dtype: int64\n"
     ]
    }
   ],
   "source": [
    "common_return_reasons = df[df['Returns'] == 1]['ReturnReason'].value_counts()\n",
    "print(\"Common Return Reasons:\\n\", common_return_reasons)\n"
   ]
  },
  {
   "cell_type": "code",
   "execution_count": 0,
   "metadata": {
    "application/vnd.databricks.v1+cell": {
     "cellMetadata": {
      "byteLimit": 2048000,
      "rowLimit": 10000
     },
     "inputWidgets": {},
     "nuid": "f0cb7546-3b3e-44d8-9be5-da898bea2ce5",
     "showTitle": false,
     "title": ""
    }
   },
   "outputs": [
    {
     "output_type": "stream",
     "name": "stdout",
     "output_type": "stream",
     "text": [
      "Loyal Customers:\n CustomerID\nCUST113    6\nCUST065    6\nCUST147    6\nCUST075    6\nCUST152    5\ndtype: int64\n"
     ]
    }
   ],
   "source": [
    "loyal_customers = df.groupby('CustomerID').size().sort_values(ascending=False).head(5)\n",
    "print(\"Loyal Customers:\\n\", loyal_customers)\n"
   ]
  },
  {
   "cell_type": "code",
   "execution_count": 0,
   "metadata": {
    "application/vnd.databricks.v1+cell": {
     "cellMetadata": {
      "byteLimit": 2048000,
      "rowLimit": 10000
     },
     "inputWidgets": {},
     "nuid": "2661e2a1-f102-45f3-b9aa-d77e384a0c06",
     "showTitle": false,
     "title": ""
    }
   },
   "outputs": [
    {
     "output_type": "stream",
     "name": "stdout",
     "output_type": "stream",
     "text": [
      "Product Category Performance:\n ProductCategory\nClothing          659.782500\nHome & Kitchen    579.799765\nSports            563.393542\nBooks             506.517551\nElectronics       495.871282\nName: TotalSale, dtype: float64\n"
     ]
    }
   ],
   "source": [
    "category_performance = df.groupby('ProductCategory')['TotalSale'].mean().sort_values(ascending=False)\n",
    "print(\"Product Category Performance:\\n\", category_performance)\n"
   ]
  },
  {
   "cell_type": "code",
   "execution_count": 0,
   "metadata": {
    "application/vnd.databricks.v1+cell": {
     "cellMetadata": {
      "byteLimit": 2048000,
      "rowLimit": 10000
     },
     "inputWidgets": {},
     "nuid": "ec3c2c5b-1594-4765-ba91-ca5f5a708a9d",
     "showTitle": false,
     "title": ""
    }
   },
   "outputs": [
    {
     "output_type": "stream",
     "name": "stdout",
     "output_type": "stream",
     "text": [
      "Correlation between Discount Impact and Sales Volume:\n 0.5173065161597667\n"
     ]
    }
   ],
   "source": [
    "# Adding a new column for discount impact (TotalSale * DiscountRate)\n",
    "df['DiscountImpact'] = df['TotalSale'] * df['DiscountRate']\n",
    "discount_sales_volume_correlation = df[['DiscountImpact', 'Quantity']].corr().iloc[0, 1]\n",
    "print(\"Correlation between Discount Impact and Sales Volume:\\n\", discount_sales_volume_correlation)\n"
   ]
  },
  {
   "cell_type": "code",
   "execution_count": 0,
   "metadata": {
    "application/vnd.databricks.v1+cell": {
     "cellMetadata": {
      "byteLimit": 2048000,
      "rowLimit": 10000
     },
     "inputWidgets": {},
     "nuid": "85a2790e-c53c-45ae-b2c8-f43bfbf0018a",
     "showTitle": false,
     "title": ""
    }
   },
   "outputs": [
    {
     "output_type": "stream",
     "name": "stdout",
     "output_type": "stream",
     "text": [
      "Average Shipping Cost by Region:\n Region\nCentral    9.043796\nEast       9.260818\nNorth      9.498913\nSouth      9.177253\nWest       9.579495\nName: ShippingCost, dtype: float64\n"
     ]
    }
   ],
   "source": [
    "average_shipping_cost_by_region = df.groupby('Region')['ShippingCost'].mean()\n",
    "print(\"Average Shipping Cost by Region:\\n\", average_shipping_cost_by_region)\n"
   ]
  },
  {
   "cell_type": "code",
   "execution_count": 0,
   "metadata": {
    "application/vnd.databricks.v1+cell": {
     "cellMetadata": {
      "byteLimit": 2048000,
      "rowLimit": 10000
     },
     "inputWidgets": {},
     "nuid": "1becea16-7f16-43a2-8848-48e6e14fe2bb",
     "showTitle": false,
     "title": ""
    }
   },
   "outputs": [
    {
     "output_type": "stream",
     "name": "stdout",
     "output_type": "stream",
     "text": [
      "Anomalous Sales Days:\n Date\n2023-03-07    65\n2023-08-05    65\n2023-09-03    58\n2023-10-19    55\nName: Quantity, dtype: int64\n"
     ]
    }
   ],
   "source": [
    "# Assuming 'Date' is already converted to datetime and setting it as index\n",
    "df.set_index('Date', inplace=True)\n",
    "daily_sales = df['Quantity'].resample('D').sum()\n",
    "outliers = daily_sales[(daily_sales - daily_sales.mean()).abs() > 3 * daily_sales.std()]\n",
    "print(\"Anomalous Sales Days:\\n\", outliers)\n"
   ]
  }
 ],
 "metadata": {
  "application/vnd.databricks.v1+notebook": {
   "dashboards": [],
   "language": "python",
   "notebookMetadata": {
    "pythonIndentUnit": 4
   },
   "notebookName": "Fedex Sales Data Analysis",
   "widgets": {}
  }
 },
 "nbformat": 4,
 "nbformat_minor": 0
}
