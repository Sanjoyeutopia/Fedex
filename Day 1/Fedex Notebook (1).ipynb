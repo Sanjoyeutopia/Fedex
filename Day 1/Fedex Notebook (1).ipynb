{
 "cells": [
  {
   "cell_type": "code",
   "execution_count": 0,
   "metadata": {
    "application/vnd.databricks.v1+cell": {
     "cellMetadata": {
      "byteLimit": 2048000,
      "rowLimit": 10000
     },
     "inputWidgets": {},
     "nuid": "50c23799-3858-49b5-a690-2e5d8aa6d097",
     "showTitle": false,
     "title": ""
    }
   },
   "outputs": [
    {
     "output_type": "stream",
     "name": "stdout",
     "output_type": "stream",
     "text": [
      "Hello Fedex Team\ndatascience\n25\n"
     ]
    }
   ],
   "source": [
    "print(\"Hello Fedex Team\")\n",
    "teamName=\"datascience\"\n",
    "###Camelcasing\n",
    "print(teamName)\n",
    "teamName=25\n",
    "print(teamName)\n"
   ]
  },
  {
   "cell_type": "code",
   "execution_count": 0,
   "metadata": {
    "application/vnd.databricks.v1+cell": {
     "cellMetadata": {
      "byteLimit": 2048000,
      "rowLimit": 10000
     },
     "inputWidgets": {},
     "nuid": "30f5de26-f867-44a5-8ae6-4e550e7d22dc",
     "showTitle": false,
     "title": ""
    }
   },
   "outputs": [
    {
     "output_type": "stream",
     "name": "stdout",
     "output_type": "stream",
     "text": [
      "The parking lot is making loss 100\n"
     ]
    }
   ],
   "source": [
    "#parking lot\n",
    "###calculates the total amount of Money earned for that parking lot\n",
    "##Car:20 , Two Wheeler: 10\n",
    "###two variables : no of cars , no of bikes  \n",
    "###total money collected for the parking lot for that day\n",
    "noOfCars=10\n",
    "noOfBikes=20\n",
    "totalAmountCollected=noOfBikes*10+noOfCars*20\n",
    "#print(\"Total amount collected \"+str(totalAmountCollected))\n",
    "###parking lot owner is giving a rent of 300\n",
    "###profit or loss \n",
    "###decision making : if (condition)\n",
    "###indent\n",
    "###create a script to calculate the profit , loss or the break even for the parking lot owner , keeping a rent variable.\n",
    "rent=500\n",
    "profit=0\n",
    "if(totalAmountCollected>rent):\n",
    "    profit=totalAmountCollected-rent\n",
    "    print(\"The parking lot has made a profit of  \", str(profit))\n",
    "elif(totalAmountCollected==rent):\n",
    "    print(\"It is  breakeven\")\n",
    "else:\n",
    "    loss=rent-totalAmountCollected\n",
    "    print(\"The parking lot is making loss\",str(loss))\n",
    "    \n"
   ]
  }
 ],
 "metadata": {
  "application/vnd.databricks.v1+notebook": {
   "dashboards": [],
   "language": "python",
   "notebookMetadata": {
    "pythonIndentUnit": 4
   },
   "notebookName": "Fedex Notebook",
   "widgets": {}
  }
 },
 "nbformat": 4,
 "nbformat_minor": 0
}
